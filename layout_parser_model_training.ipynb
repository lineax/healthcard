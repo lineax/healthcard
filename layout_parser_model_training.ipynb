{
  "cells": [
    {
      "cell_type": "markdown",
      "metadata": {
        "id": "IJxy4WieSVSo"
      },
      "source": [
        "# **Layout Parser Model Training**"
      ]
    },
    {
      "cell_type": "markdown",
      "metadata": {
        "id": "cA_E2FFlSVSw"
      },
      "source": [
        "# Detectron2\n",
        "\n",
        "Detectron2 is Facebook AI Research's next generation software system that implements state-of-the-art object detection algorithms. It is a ground-up rewrite of the previous version, Detectron, and it originates from maskrcnn-benchmark"
      ]
    },
    {
      "cell_type": "markdown",
      "metadata": {
        "id": "TXCdeUQoSVSy"
      },
      "source": [
        "### Installation\n",
        "* detectron2 is not pre-installed in this kaggle docker, so let's install it.\n",
        "* we need to know CUDA and pytorch version to install correct detectron2."
      ]
    },
    {
      "cell_type": "code",
      "execution_count": null,
      "metadata": {
        "id": "x-c6OvRiZ-N8"
      },
      "outputs": [],
      "source": [
        "! pip install -q kaggle"
      ]
    },
    {
      "cell_type": "code",
      "execution_count": null,
      "metadata": {
        "colab": {
          "base_uri": "https://localhost:8080/",
          "height": 91
        },
        "id": "ocVwgb-VaBdU",
        "outputId": "51161b98-9d4e-4aac-9e0b-16deca5054b8"
      },
      "outputs": [
        {
          "data": {
            "text/html": [
              "\n",
              "     <input type=\"file\" id=\"files-b26efaa9-4c64-426b-839d-859fb4503eaf\" name=\"files[]\" multiple disabled\n",
              "        style=\"border:none\" />\n",
              "     <output id=\"result-b26efaa9-4c64-426b-839d-859fb4503eaf\">\n",
              "      Upload widget is only available when the cell has been executed in the\n",
              "      current browser session. Please rerun this cell to enable.\n",
              "      </output>\n",
              "      <script>// Copyright 2017 Google LLC\n",
              "//\n",
              "// Licensed under the Apache License, Version 2.0 (the \"License\");\n",
              "// you may not use this file except in compliance with the License.\n",
              "// You may obtain a copy of the License at\n",
              "//\n",
              "//      http://www.apache.org/licenses/LICENSE-2.0\n",
              "//\n",
              "// Unless required by applicable law or agreed to in writing, software\n",
              "// distributed under the License is distributed on an \"AS IS\" BASIS,\n",
              "// WITHOUT WARRANTIES OR CONDITIONS OF ANY KIND, either express or implied.\n",
              "// See the License for the specific language governing permissions and\n",
              "// limitations under the License.\n",
              "\n",
              "/**\n",
              " * @fileoverview Helpers for google.colab Python module.\n",
              " */\n",
              "(function(scope) {\n",
              "function span(text, styleAttributes = {}) {\n",
              "  const element = document.createElement('span');\n",
              "  element.textContent = text;\n",
              "  for (const key of Object.keys(styleAttributes)) {\n",
              "    element.style[key] = styleAttributes[key];\n",
              "  }\n",
              "  return element;\n",
              "}\n",
              "\n",
              "// Max number of bytes which will be uploaded at a time.\n",
              "const MAX_PAYLOAD_SIZE = 100 * 1024;\n",
              "\n",
              "function _uploadFiles(inputId, outputId) {\n",
              "  const steps = uploadFilesStep(inputId, outputId);\n",
              "  const outputElement = document.getElementById(outputId);\n",
              "  // Cache steps on the outputElement to make it available for the next call\n",
              "  // to uploadFilesContinue from Python.\n",
              "  outputElement.steps = steps;\n",
              "\n",
              "  return _uploadFilesContinue(outputId);\n",
              "}\n",
              "\n",
              "// This is roughly an async generator (not supported in the browser yet),\n",
              "// where there are multiple asynchronous steps and the Python side is going\n",
              "// to poll for completion of each step.\n",
              "// This uses a Promise to block the python side on completion of each step,\n",
              "// then passes the result of the previous step as the input to the next step.\n",
              "function _uploadFilesContinue(outputId) {\n",
              "  const outputElement = document.getElementById(outputId);\n",
              "  const steps = outputElement.steps;\n",
              "\n",
              "  const next = steps.next(outputElement.lastPromiseValue);\n",
              "  return Promise.resolve(next.value.promise).then((value) => {\n",
              "    // Cache the last promise value to make it available to the next\n",
              "    // step of the generator.\n",
              "    outputElement.lastPromiseValue = value;\n",
              "    return next.value.response;\n",
              "  });\n",
              "}\n",
              "\n",
              "/**\n",
              " * Generator function which is called between each async step of the upload\n",
              " * process.\n",
              " * @param {string} inputId Element ID of the input file picker element.\n",
              " * @param {string} outputId Element ID of the output display.\n",
              " * @return {!Iterable<!Object>} Iterable of next steps.\n",
              " */\n",
              "function* uploadFilesStep(inputId, outputId) {\n",
              "  const inputElement = document.getElementById(inputId);\n",
              "  inputElement.disabled = false;\n",
              "\n",
              "  const outputElement = document.getElementById(outputId);\n",
              "  outputElement.innerHTML = '';\n",
              "\n",
              "  const pickedPromise = new Promise((resolve) => {\n",
              "    inputElement.addEventListener('change', (e) => {\n",
              "      resolve(e.target.files);\n",
              "    });\n",
              "  });\n",
              "\n",
              "  const cancel = document.createElement('button');\n",
              "  inputElement.parentElement.appendChild(cancel);\n",
              "  cancel.textContent = 'Cancel upload';\n",
              "  const cancelPromise = new Promise((resolve) => {\n",
              "    cancel.onclick = () => {\n",
              "      resolve(null);\n",
              "    };\n",
              "  });\n",
              "\n",
              "  // Wait for the user to pick the files.\n",
              "  const files = yield {\n",
              "    promise: Promise.race([pickedPromise, cancelPromise]),\n",
              "    response: {\n",
              "      action: 'starting',\n",
              "    }\n",
              "  };\n",
              "\n",
              "  cancel.remove();\n",
              "\n",
              "  // Disable the input element since further picks are not allowed.\n",
              "  inputElement.disabled = true;\n",
              "\n",
              "  if (!files) {\n",
              "    return {\n",
              "      response: {\n",
              "        action: 'complete',\n",
              "      }\n",
              "    };\n",
              "  }\n",
              "\n",
              "  for (const file of files) {\n",
              "    const li = document.createElement('li');\n",
              "    li.append(span(file.name, {fontWeight: 'bold'}));\n",
              "    li.append(span(\n",
              "        `(${file.type || 'n/a'}) - ${file.size} bytes, ` +\n",
              "        `last modified: ${\n",
              "            file.lastModifiedDate ? file.lastModifiedDate.toLocaleDateString() :\n",
              "                                    'n/a'} - `));\n",
              "    const percent = span('0% done');\n",
              "    li.appendChild(percent);\n",
              "\n",
              "    outputElement.appendChild(li);\n",
              "\n",
              "    const fileDataPromise = new Promise((resolve) => {\n",
              "      const reader = new FileReader();\n",
              "      reader.onload = (e) => {\n",
              "        resolve(e.target.result);\n",
              "      };\n",
              "      reader.readAsArrayBuffer(file);\n",
              "    });\n",
              "    // Wait for the data to be ready.\n",
              "    let fileData = yield {\n",
              "      promise: fileDataPromise,\n",
              "      response: {\n",
              "        action: 'continue',\n",
              "      }\n",
              "    };\n",
              "\n",
              "    // Use a chunked sending to avoid message size limits. See b/62115660.\n",
              "    let position = 0;\n",
              "    do {\n",
              "      const length = Math.min(fileData.byteLength - position, MAX_PAYLOAD_SIZE);\n",
              "      const chunk = new Uint8Array(fileData, position, length);\n",
              "      position += length;\n",
              "\n",
              "      const base64 = btoa(String.fromCharCode.apply(null, chunk));\n",
              "      yield {\n",
              "        response: {\n",
              "          action: 'append',\n",
              "          file: file.name,\n",
              "          data: base64,\n",
              "        },\n",
              "      };\n",
              "\n",
              "      let percentDone = fileData.byteLength === 0 ?\n",
              "          100 :\n",
              "          Math.round((position / fileData.byteLength) * 100);\n",
              "      percent.textContent = `${percentDone}% done`;\n",
              "\n",
              "    } while (position < fileData.byteLength);\n",
              "  }\n",
              "\n",
              "  // All done.\n",
              "  yield {\n",
              "    response: {\n",
              "      action: 'complete',\n",
              "    }\n",
              "  };\n",
              "}\n",
              "\n",
              "scope.google = scope.google || {};\n",
              "scope.google.colab = scope.google.colab || {};\n",
              "scope.google.colab._files = {\n",
              "  _uploadFiles,\n",
              "  _uploadFilesContinue,\n",
              "};\n",
              "})(self);\n",
              "</script> "
            ],
            "text/plain": [
              "<IPython.core.display.HTML object>"
            ]
          },
          "metadata": {},
          "output_type": "display_data"
        },
        {
          "name": "stdout",
          "output_type": "stream",
          "text": [
            "Saving kaggle.json to kaggle.json\n"
          ]
        },
        {
          "data": {
            "text/plain": [
              "{'kaggle.json': b'{\"username\":\"itsmeabby\",\"key\":\"264e9b5f246f888eac1393bc7e55b921\"}'}"
            ]
          },
          "execution_count": 40,
          "metadata": {},
          "output_type": "execute_result"
        }
      ],
      "source": [
        "from google.colab import files\n",
        "\n",
        "files.upload()"
      ]
    },
    {
      "cell_type": "code",
      "execution_count": null,
      "metadata": {
        "id": "OtkVLTuFaJkL"
      },
      "outputs": [],
      "source": [
        "! cp kaggle.json ~/.kaggle/"
      ]
    },
    {
      "cell_type": "code",
      "execution_count": null,
      "metadata": {
        "id": "y8WYFgbZaQX5"
      },
      "outputs": [],
      "source": [
        "! chmod 600 ~/.kaggle/kaggle.json"
      ]
    },
    {
      "cell_type": "code",
      "execution_count": null,
      "metadata": {
        "colab": {
          "base_uri": "https://localhost:8080/"
        },
        "id": "Dh_F6dGeaS9J",
        "outputId": "1f7e1bd1-17bf-46eb-d2e3-9e8ce745c0cf"
      },
      "outputs": [
        {
          "name": "stdout",
          "output_type": "stream",
          "text": [
            "Downloading layout-parser-weights.zip to /content/drive/MyDrive/HealthCard\n",
            "100% 605M/607M [00:31<00:00, 20.9MB/s]\n",
            "100% 607M/607M [00:31<00:00, 20.4MB/s]\n"
          ]
        }
      ],
      "source": [
        "!kaggle datasets download -d ammarnassanalhajali/layout-parser-weights"
      ]
    },
    {
      "cell_type": "code",
      "execution_count": null,
      "metadata": {
        "colab": {
          "base_uri": "https://localhost:8080/"
        },
        "id": "PFb8luydS9F4",
        "outputId": "9ca7f982-6abb-4868-fbe7-868d2a969fbf"
      },
      "outputs": [
        {
          "name": "stdout",
          "output_type": "stream",
          "text": [
            "Mounted at /content/drive\n"
          ]
        }
      ],
      "source": [
        "from google.colab import drive\n",
        "drive.mount('/content/drive')"
      ]
    },
    {
      "cell_type": "code",
      "execution_count": null,
      "metadata": {
        "colab": {
          "base_uri": "https://localhost:8080/"
        },
        "execution": {
          "iopub.execute_input": "2023-02-06T14:30:28.324827Z",
          "iopub.status.busy": "2023-02-06T14:30:28.324101Z",
          "iopub.status.idle": "2023-02-06T14:30:29.416647Z",
          "shell.execute_reply": "2023-02-06T14:30:29.415748Z",
          "shell.execute_reply.started": "2023-02-06T14:30:28.324738Z"
        },
        "id": "6Ea3XjFfSVSy",
        "outputId": "b865e276-c6e8-4be8-fd51-a31a7050ce55",
        "trusted": true
      },
      "outputs": [
        {
          "name": "stdout",
          "output_type": "stream",
          "text": [
            "NVIDIA-SMI has failed because it couldn't communicate with the NVIDIA driver. Make sure that the latest NVIDIA driver is installed and running.\n",
            "\n"
          ]
        }
      ],
      "source": [
        "!nvidia-smi"
      ]
    },
    {
      "cell_type": "code",
      "execution_count": null,
      "metadata": {
        "colab": {
          "base_uri": "https://localhost:8080/"
        },
        "execution": {
          "iopub.execute_input": "2023-02-06T14:32:24.019988Z",
          "iopub.status.busy": "2023-02-06T14:32:24.019192Z",
          "iopub.status.idle": "2023-02-06T14:32:24.991415Z",
          "shell.execute_reply": "2023-02-06T14:32:24.990539Z",
          "shell.execute_reply.started": "2023-02-06T14:32:24.019949Z"
        },
        "id": "HgzrtV0BSVS1",
        "outputId": "55221f57-3815-4941-c70a-cbf09ae40cf1",
        "trusted": true
      },
      "outputs": [
        {
          "name": "stdout",
          "output_type": "stream",
          "text": [
            "nvcc: NVIDIA (R) Cuda compiler driver\n",
            "Copyright (c) 2005-2021 NVIDIA Corporation\n",
            "Built on Sun_Feb_14_21:12:58_PST_2021\n",
            "Cuda compilation tools, release 11.2, V11.2.152\n",
            "Build cuda_11.2.r11.2/compiler.29618528_0\n"
          ]
        }
      ],
      "source": [
        "!nvcc --version"
      ]
    },
    {
      "cell_type": "code",
      "execution_count": null,
      "metadata": {
        "id": "GFp1UrtHgDoF"
      },
      "outputs": [],
      "source": [
        "import os\n",
        "os.environ[\"PYTORCH_CUDA_ALLOC_CONF\"] = \"max_split_size_mb:8500\""
      ]
    },
    {
      "cell_type": "code",
      "execution_count": null,
      "metadata": {
        "colab": {
          "base_uri": "https://localhost:8080/"
        },
        "execution": {
          "iopub.execute_input": "2023-02-06T14:32:25.014005Z",
          "iopub.status.busy": "2023-02-06T14:32:25.013750Z",
          "iopub.status.idle": "2023-02-06T14:32:29.705047Z",
          "shell.execute_reply": "2023-02-06T14:32:29.703995Z",
          "shell.execute_reply.started": "2023-02-06T14:32:25.013974Z"
        },
        "id": "qP2uwtI3SVS2",
        "outputId": "04f7b8a0-02a6-4b0e-b4f2-9828ab4a1dcb",
        "trusted": true
      },
      "outputs": [
        {
          "name": "stdout",
          "output_type": "stream",
          "text": [
            "1.13.1+cu116 False\n"
          ]
        }
      ],
      "source": [
        "import torch, torchvision\n",
        "print(torch.__version__, torch.cuda.is_available())"
      ]
    },
    {
      "cell_type": "markdown",
      "metadata": {
        "id": "BfAXKr_TSVS3"
      },
      "source": [
        "* It seems CUDA=11.0 and torch==1.7.0 is used in this kaggle docker image.\n",
        "* See installation for details. https://detectron2.readthedocs.io/en/latest/tutorials/install.html"
      ]
    },
    {
      "cell_type": "markdown",
      "metadata": {
        "id": "uMtdIAAnSVS4"
      },
      "source": [
        "### Install Pre-Built Detectron2"
      ]
    },
    {
      "cell_type": "code",
      "execution_count": null,
      "metadata": {
        "id": "Ty0B9dBjg1ep"
      },
      "outputs": [],
      "source": [
        "!rm -r \"/content/detectron\""
      ]
    },
    {
      "cell_type": "code",
      "execution_count": null,
      "metadata": {
        "colab": {
          "base_uri": "https://localhost:8080/"
        },
        "id": "ESAaOST5VcIM",
        "outputId": "119b0274-3f8c-40d5-b7e2-903de39db1d0"
      },
      "outputs": [
        {
          "name": "stdout",
          "output_type": "stream",
          "text": [
            "Looking in indexes: https://pypi.org/simple, https://us-python.pkg.dev/colab-wheels/public/simple/\n",
            "Collecting git+https://github.com/facebookresearch/detectron2.git\n",
            "  Cloning https://github.com/facebookresearch/detectron2.git to /tmp/pip-req-build-jokr_83u\n",
            "  Running command git clone --filter=blob:none --quiet https://github.com/facebookresearch/detectron2.git /tmp/pip-req-build-jokr_83u\n",
            "  Resolved https://github.com/facebookresearch/detectron2.git to commit 9be5e995d846c13a9bf4dbce78b7aac836dcafb3\n",
            "  Preparing metadata (setup.py) ... \u001b[?25l\u001b[?25hdone\n",
            "Requirement already satisfied: Pillow>=7.1 in /usr/local/lib/python3.8/dist-packages (from detectron2==0.6) (9.4.0)\n",
            "Requirement already satisfied: matplotlib in /usr/local/lib/python3.8/dist-packages (from detectron2==0.6) (3.2.2)\n",
            "Requirement already satisfied: pycocotools>=2.0.2 in /usr/local/lib/python3.8/dist-packages (from detectron2==0.6) (2.0.6)\n",
            "Requirement already satisfied: termcolor>=1.1 in /usr/local/lib/python3.8/dist-packages (from detectron2==0.6) (2.2.0)\n",
            "Collecting yacs>=0.1.8\n",
            "  Downloading yacs-0.1.8-py3-none-any.whl (14 kB)\n",
            "Requirement already satisfied: tabulate in /usr/local/lib/python3.8/dist-packages (from detectron2==0.6) (0.8.10)\n",
            "Requirement already satisfied: cloudpickle in /usr/local/lib/python3.8/dist-packages (from detectron2==0.6) (2.2.1)\n",
            "Requirement already satisfied: tqdm>4.29.0 in /usr/local/lib/python3.8/dist-packages (from detectron2==0.6) (4.64.1)\n",
            "Requirement already satisfied: tensorboard in /usr/local/lib/python3.8/dist-packages (from detectron2==0.6) (2.9.1)\n",
            "Collecting fvcore<0.1.6,>=0.1.5\n",
            "  Downloading fvcore-0.1.5.post20221221.tar.gz (50 kB)\n",
            "\u001b[2K     \u001b[90m━━━━━━━━━━━━━━━━━━━━━━━━━━━━━━━━━━━━━━━━\u001b[0m \u001b[32m50.2/50.2 KB\u001b[0m \u001b[31m3.4 MB/s\u001b[0m eta \u001b[36m0:00:00\u001b[0m\n",
            "\u001b[?25h  Preparing metadata (setup.py) ... \u001b[?25l\u001b[?25hdone\n",
            "Collecting iopath<0.1.10,>=0.1.7\n",
            "  Downloading iopath-0.1.9-py3-none-any.whl (27 kB)\n",
            "Collecting omegaconf>=2.1\n",
            "  Downloading omegaconf-2.3.0-py3-none-any.whl (79 kB)\n",
            "\u001b[2K     \u001b[90m━━━━━━━━━━━━━━━━━━━━━━━━━━━━━━━━━━━━━━━━\u001b[0m \u001b[32m79.5/79.5 KB\u001b[0m \u001b[31m10.9 MB/s\u001b[0m eta \u001b[36m0:00:00\u001b[0m\n",
            "\u001b[?25hCollecting hydra-core>=1.1\n",
            "  Downloading hydra_core-1.3.1-py3-none-any.whl (154 kB)\n",
            "\u001b[2K     \u001b[90m━━━━━━━━━━━━━━━━━━━━━━━━━━━━━━━━━━━━━━\u001b[0m \u001b[32m154.1/154.1 KB\u001b[0m \u001b[31m15.1 MB/s\u001b[0m eta \u001b[36m0:00:00\u001b[0m\n",
            "\u001b[?25hCollecting black\n",
            "  Downloading black-23.1.0-cp38-cp38-manylinux_2_17_x86_64.manylinux2014_x86_64.whl (1.6 MB)\n",
            "\u001b[2K     \u001b[90m━━━━━━━━━━━━━━━━━━━━━━━━━━━━━━━━━━━━━━━━\u001b[0m \u001b[32m1.6/1.6 MB\u001b[0m \u001b[31m46.6 MB/s\u001b[0m eta \u001b[36m0:00:00\u001b[0m\n",
            "\u001b[?25hRequirement already satisfied: packaging in /usr/local/lib/python3.8/dist-packages (from detectron2==0.6) (23.0)\n",
            "Requirement already satisfied: numpy in /usr/local/lib/python3.8/dist-packages (from fvcore<0.1.6,>=0.1.5->detectron2==0.6) (1.21.6)\n",
            "Requirement already satisfied: pyyaml>=5.1 in /usr/local/lib/python3.8/dist-packages (from fvcore<0.1.6,>=0.1.5->detectron2==0.6) (6.0)\n",
            "Requirement already satisfied: importlib-resources in /usr/local/lib/python3.8/dist-packages (from hydra-core>=1.1->detectron2==0.6) (5.10.2)\n",
            "Collecting antlr4-python3-runtime==4.9.*\n",
            "  Downloading antlr4-python3-runtime-4.9.3.tar.gz (117 kB)\n",
            "\u001b[2K     \u001b[90m━━━━━━━━━━━━━━━━━━━━━━━━━━━━━━━━━━━━━━\u001b[0m \u001b[32m117.0/117.0 KB\u001b[0m \u001b[31m15.9 MB/s\u001b[0m eta \u001b[36m0:00:00\u001b[0m\n",
            "\u001b[?25h  Preparing metadata (setup.py) ... \u001b[?25l\u001b[?25hdone\n",
            "Requirement already satisfied: portalocker in /usr/local/lib/python3.8/dist-packages (from iopath<0.1.10,>=0.1.7->detectron2==0.6) (2.7.0)\n",
            "Requirement already satisfied: cycler>=0.10 in /usr/local/lib/python3.8/dist-packages (from matplotlib->detectron2==0.6) (0.11.0)\n",
            "Requirement already satisfied: pyparsing!=2.0.4,!=2.1.2,!=2.1.6,>=2.0.1 in /usr/local/lib/python3.8/dist-packages (from matplotlib->detectron2==0.6) (3.0.9)\n",
            "Requirement already satisfied: kiwisolver>=1.0.1 in /usr/local/lib/python3.8/dist-packages (from matplotlib->detectron2==0.6) (1.4.4)\n",
            "Requirement already satisfied: python-dateutil>=2.1 in /usr/local/lib/python3.8/dist-packages (from matplotlib->detectron2==0.6) (2.8.2)\n",
            "Collecting pathspec>=0.9.0\n",
            "  Downloading pathspec-0.11.0-py3-none-any.whl (29 kB)\n",
            "Requirement already satisfied: platformdirs>=2 in /usr/local/lib/python3.8/dist-packages (from black->detectron2==0.6) (2.6.2)\n",
            "Collecting click>=8.0.0\n",
            "  Downloading click-8.1.3-py3-none-any.whl (96 kB)\n",
            "\u001b[2K     \u001b[90m━━━━━━━━━━━━━━━━━━━━━━━━━━━━━━━━━━━━━━━━\u001b[0m \u001b[32m96.6/96.6 KB\u001b[0m \u001b[31m13.8 MB/s\u001b[0m eta \u001b[36m0:00:00\u001b[0m\n",
            "\u001b[?25hCollecting mypy-extensions>=0.4.3\n",
            "  Downloading mypy_extensions-1.0.0-py3-none-any.whl (4.7 kB)\n",
            "Requirement already satisfied: tomli>=1.1.0 in /usr/local/lib/python3.8/dist-packages (from black->detectron2==0.6) (2.0.1)\n",
            "Requirement already satisfied: typing-extensions>=3.10.0.0 in /usr/local/lib/python3.8/dist-packages (from black->detectron2==0.6) (4.4.0)\n",
            "Requirement already satisfied: werkzeug>=1.0.1 in /usr/local/lib/python3.8/dist-packages (from tensorboard->detectron2==0.6) (1.0.1)\n",
            "Requirement already satisfied: markdown>=2.6.8 in /usr/local/lib/python3.8/dist-packages (from tensorboard->detectron2==0.6) (3.4.1)\n",
            "Requirement already satisfied: google-auth-oauthlib<0.5,>=0.4.1 in /usr/local/lib/python3.8/dist-packages (from tensorboard->detectron2==0.6) (0.4.6)\n",
            "Requirement already satisfied: grpcio>=1.24.3 in /usr/local/lib/python3.8/dist-packages (from tensorboard->detectron2==0.6) (1.51.1)\n",
            "Requirement already satisfied: tensorboard-data-server<0.7.0,>=0.6.0 in /usr/local/lib/python3.8/dist-packages (from tensorboard->detectron2==0.6) (0.6.1)\n",
            "Requirement already satisfied: wheel>=0.26 in /usr/local/lib/python3.8/dist-packages (from tensorboard->detectron2==0.6) (0.38.4)\n",
            "Requirement already satisfied: setuptools>=41.0.0 in /usr/local/lib/python3.8/dist-packages (from tensorboard->detectron2==0.6) (57.4.0)\n",
            "Requirement already satisfied: google-auth<3,>=1.6.3 in /usr/local/lib/python3.8/dist-packages (from tensorboard->detectron2==0.6) (2.16.0)\n",
            "Requirement already satisfied: tensorboard-plugin-wit>=1.6.0 in /usr/local/lib/python3.8/dist-packages (from tensorboard->detectron2==0.6) (1.8.1)\n",
            "Requirement already satisfied: protobuf<3.20,>=3.9.2 in /usr/local/lib/python3.8/dist-packages (from tensorboard->detectron2==0.6) (3.19.6)\n",
            "Requirement already satisfied: requests<3,>=2.21.0 in /usr/local/lib/python3.8/dist-packages (from tensorboard->detectron2==0.6) (2.25.1)\n",
            "Requirement already satisfied: absl-py>=0.4 in /usr/local/lib/python3.8/dist-packages (from tensorboard->detectron2==0.6) (1.4.0)\n",
            "Requirement already satisfied: rsa<5,>=3.1.4 in /usr/local/lib/python3.8/dist-packages (from google-auth<3,>=1.6.3->tensorboard->detectron2==0.6) (4.9)\n",
            "Requirement already satisfied: pyasn1-modules>=0.2.1 in /usr/local/lib/python3.8/dist-packages (from google-auth<3,>=1.6.3->tensorboard->detectron2==0.6) (0.2.8)\n",
            "Requirement already satisfied: cachetools<6.0,>=2.0.0 in /usr/local/lib/python3.8/dist-packages (from google-auth<3,>=1.6.3->tensorboard->detectron2==0.6) (5.3.0)\n",
            "Requirement already satisfied: six>=1.9.0 in /usr/local/lib/python3.8/dist-packages (from google-auth<3,>=1.6.3->tensorboard->detectron2==0.6) (1.15.0)\n",
            "Requirement already satisfied: requests-oauthlib>=0.7.0 in /usr/local/lib/python3.8/dist-packages (from google-auth-oauthlib<0.5,>=0.4.1->tensorboard->detectron2==0.6) (1.3.1)\n",
            "Requirement already satisfied: importlib-metadata>=4.4 in /usr/local/lib/python3.8/dist-packages (from markdown>=2.6.8->tensorboard->detectron2==0.6) (6.0.0)\n",
            "Requirement already satisfied: urllib3<1.27,>=1.21.1 in /usr/local/lib/python3.8/dist-packages (from requests<3,>=2.21.0->tensorboard->detectron2==0.6) (1.24.3)\n",
            "Requirement already satisfied: certifi>=2017.4.17 in /usr/local/lib/python3.8/dist-packages (from requests<3,>=2.21.0->tensorboard->detectron2==0.6) (2022.12.7)\n",
            "Requirement already satisfied: idna<3,>=2.5 in /usr/local/lib/python3.8/dist-packages (from requests<3,>=2.21.0->tensorboard->detectron2==0.6) (2.10)\n",
            "Requirement already satisfied: chardet<5,>=3.0.2 in /usr/local/lib/python3.8/dist-packages (from requests<3,>=2.21.0->tensorboard->detectron2==0.6) (4.0.0)\n",
            "Requirement already satisfied: zipp>=3.1.0 in /usr/local/lib/python3.8/dist-packages (from importlib-resources->hydra-core>=1.1->detectron2==0.6) (3.12.0)\n",
            "Requirement already satisfied: pyasn1<0.5.0,>=0.4.6 in /usr/local/lib/python3.8/dist-packages (from pyasn1-modules>=0.2.1->google-auth<3,>=1.6.3->tensorboard->detectron2==0.6) (0.4.8)\n",
            "Requirement already satisfied: oauthlib>=3.0.0 in /usr/local/lib/python3.8/dist-packages (from requests-oauthlib>=0.7.0->google-auth-oauthlib<0.5,>=0.4.1->tensorboard->detectron2==0.6) (3.2.2)\n",
            "Building wheels for collected packages: detectron2, fvcore, antlr4-python3-runtime\n",
            "  Building wheel for detectron2 (setup.py) ... \u001b[?25l\u001b[?25hdone\n",
            "  Created wheel for detectron2: filename=detectron2-0.6-cp38-cp38-linux_x86_64.whl size=6347030 sha256=5e93136c7f0134c0df717eed31d73cfd0e4596c54251e88c00db7b1cb0f1ee11\n",
            "  Stored in directory: /tmp/pip-ephem-wheel-cache-2_0p1kjd/wheels/19/ac/65/e48e5e4ec2702274d927c5a6efb75709b24014371d3bb778f2\n",
            "  Building wheel for fvcore (setup.py) ... \u001b[?25l\u001b[?25hdone\n",
            "  Created wheel for fvcore: filename=fvcore-0.1.5.post20221221-py3-none-any.whl size=61431 sha256=82204972c175e1418f7373e849dc8805646fd2a18c05c4d9d08c1198fdcb032e\n",
            "  Stored in directory: /root/.cache/pip/wheels/b8/79/07/c0e9367f5b5ea325e246bd73651e8af175fabbef943043b1cc\n",
            "  Building wheel for antlr4-python3-runtime (setup.py) ... \u001b[?25l\u001b[?25hdone\n",
            "  Created wheel for antlr4-python3-runtime: filename=antlr4_python3_runtime-4.9.3-py3-none-any.whl size=144575 sha256=500ca83adf02585f6cea1a5cfe21063f71db71cf02951d31e29c6e22275b984d\n",
            "  Stored in directory: /root/.cache/pip/wheels/b1/a3/c2/6df046c09459b73cc9bb6c4401b0be6c47048baf9a1617c485\n",
            "Successfully built detectron2 fvcore antlr4-python3-runtime\n",
            "Installing collected packages: antlr4-python3-runtime, yacs, pathspec, omegaconf, mypy-extensions, iopath, click, hydra-core, fvcore, black, detectron2\n",
            "  Attempting uninstall: iopath\n",
            "    Found existing installation: iopath 0.1.10\n",
            "    Uninstalling iopath-0.1.10:\n",
            "      Successfully uninstalled iopath-0.1.10\n",
            "  Attempting uninstall: click\n",
            "    Found existing installation: click 7.1.2\n",
            "    Uninstalling click-7.1.2:\n",
            "      Successfully uninstalled click-7.1.2\n",
            "\u001b[31mERROR: pip's dependency resolver does not currently take into account all the packages that are installed. This behaviour is the source of the following dependency conflicts.\n",
            "flask 1.1.4 requires click<8.0,>=5.1, but you have click 8.1.3 which is incompatible.\u001b[0m\u001b[31m\n",
            "\u001b[0mSuccessfully installed antlr4-python3-runtime-4.9.3 black-23.1.0 click-8.1.3 detectron2-0.6 fvcore-0.1.5.post20221221 hydra-core-1.3.1 iopath-0.1.9 mypy-extensions-1.0.0 omegaconf-2.3.0 pathspec-0.11.0 yacs-0.1.8\n"
          ]
        }
      ],
      "source": [
        "# !python -m pip install pyyaml==5.1\n",
        "# import sys, os, distutils.core\n",
        "# # Note: This is a faster way to install detectron2 in Colab, but it does not include all functionalities.\n",
        "# # See https://detectron2.readthedocs.io/tutorials/install.html for full installation instructions\n",
        "# !git clone 'https://github.com/facebookresearch/detectron2'\n",
        "# dist = distutils.core.run_setup(\"./detectron2/setup.py\")\n",
        "# !python -m pip install {' '.join([f\"'{x}'\" for x in dist.install_requires])}\n",
        "# sys.path.insert(0, os.path.abspath('./detectron2'))\n",
        "# !mv detectron2 detectron\n",
        "\n",
        "# Properly install detectron2. (Please do not install twice in both ways)\n",
        "!python -m pip install 'git+https://github.com/facebookresearch/detectron2.git'"
      ]
    },
    {
      "cell_type": "code",
      "execution_count": null,
      "metadata": {
        "id": "COTqf1OaonM-"
      },
      "outputs": [],
      "source": []
    },
    {
      "cell_type": "code",
      "execution_count": null,
      "metadata": {
        "colab": {
          "base_uri": "https://localhost:8080/"
        },
        "id": "8S_3heffV-zr",
        "outputId": "297ed2fd-a294-4d51-9330-0ccc32bfa61e"
      },
      "outputs": [
        {
          "name": "stdout",
          "output_type": "stream",
          "text": [
            "nvcc: NVIDIA (R) Cuda compiler driver\n",
            "Copyright (c) 2005-2021 NVIDIA Corporation\n",
            "Built on Sun_Feb_14_21:12:58_PST_2021\n",
            "Cuda compilation tools, release 11.2, V11.2.152\n",
            "Build cuda_11.2.r11.2/compiler.29618528_0\n",
            "torch:  1.13 ; cuda:  cu116\n",
            "detectron2: 0.6\n"
          ]
        }
      ],
      "source": [
        "import torch, detectron2\n",
        "!nvcc --version\n",
        "TORCH_VERSION = \".\".join(torch.__version__.split(\".\")[:2])\n",
        "CUDA_VERSION = torch.__version__.split(\"+\")[-1]\n",
        "print(\"torch: \", TORCH_VERSION, \"; cuda: \", CUDA_VERSION)\n",
        "print(\"detectron2:\", detectron2.__version__)"
      ]
    },
    {
      "cell_type": "markdown",
      "metadata": {
        "id": "KnTUJczeSVS6"
      },
      "source": [
        "# importing libraries"
      ]
    },
    {
      "cell_type": "code",
      "execution_count": null,
      "metadata": {
        "colab": {
          "base_uri": "https://localhost:8080/"
        },
        "id": "jfVsA04zlMRS",
        "outputId": "50b9fccf-ba38-463f-e1c7-cb3a62abf068"
      },
      "outputs": [
        {
          "name": "stdout",
          "output_type": "stream",
          "text": [
            "/content\n"
          ]
        }
      ],
      "source": [
        "!pwd"
      ]
    },
    {
      "cell_type": "code",
      "execution_count": null,
      "metadata": {
        "colab": {
          "base_uri": "https://localhost:8080/"
        },
        "execution": {
          "iopub.execute_input": "2023-02-06T14:33:24.680896Z",
          "iopub.status.busy": "2023-02-06T14:33:24.680663Z",
          "iopub.status.idle": "2023-02-06T14:33:27.344340Z",
          "shell.execute_reply": "2023-02-06T14:33:27.343634Z",
          "shell.execute_reply.started": "2023-02-06T14:33:24.680867Z"
        },
        "id": "-O3hLUanSVS8",
        "outputId": "5ac7a01e-94e7-4360-d319-8b317feb7657",
        "trusted": true
      },
      "outputs": [
        {
          "data": {
            "text/plain": [
              "<Logger detectron2 (DEBUG)>"
            ]
          },
          "execution_count": 8,
          "metadata": {},
          "output_type": "execute_result"
        }
      ],
      "source": [
        "import pandas as pd\n",
        "import numpy as np\n",
        "import pandas as pd \n",
        "from tqdm import tqdm\n",
        "from tqdm import tqdm_notebook as tqdm # progress bar\n",
        "from datetime import datetime\n",
        "import time\n",
        "import matplotlib.pyplot as plt\n",
        "#from pycocotools.coco import COCO\n",
        "import os, json, cv2, random\n",
        "import skimage.io as io\n",
        "import copy\n",
        "from pathlib import Path\n",
        "from typing import Optional\n",
        "\n",
        "\n",
        "# torch\n",
        "import torch\n",
        "\n",
        "# Albumenatations\n",
        "import albumentations as A\n",
        "from albumentations.pytorch.transforms import ToTensorV2\n",
        "\n",
        "#from pycocotools.coco import COCO\n",
        "from sklearn.model_selection import StratifiedKFold\n",
        "\n",
        "# glob\n",
        "from glob import glob\n",
        "\n",
        "# numba\n",
        "import numba\n",
        "from numba import jit\n",
        "\n",
        "import warnings\n",
        "warnings.filterwarnings('ignore') #Ignore \"future\" warnings and Data-Frame-Slicing warnings.\n",
        "\n",
        "\n",
        "# detectron2\n",
        "from detectron2.structures import BoxMode\n",
        "from detectron2 import model_zoo\n",
        "from detectron2.config import get_cfg\n",
        "from detectron2.data import DatasetCatalog, MetadataCatalog\n",
        "from detectron2.engine import DefaultPredictor, DefaultTrainer, launch\n",
        "from detectron2.evaluation import COCOEvaluator\n",
        "from detectron2.structures import BoxMode\n",
        "from detectron2.utils.visualizer import ColorMode\n",
        "from detectron2.utils.logger import setup_logger\n",
        "from detectron2.utils.visualizer import Visualizer\n",
        "\n",
        "from detectron2.data import DatasetCatalog, MetadataCatalog, build_detection_test_loader, build_detection_train_loader\n",
        "from detectron2.data import detection_utils as utils\n",
        "\n",
        "\n",
        "from detectron2.data import DatasetCatalog, MetadataCatalog, build_detection_test_loader, build_detection_train_loader\n",
        "from detectron2.data import detection_utils as utils\n",
        "import detectron2.data.transforms as T\n",
        "from detectron2.evaluation import COCOEvaluator, inference_on_dataset\n",
        "\n",
        "setup_logger()"
      ]
    },
    {
      "cell_type": "code",
      "execution_count": null,
      "metadata": {
        "colab": {
          "base_uri": "https://localhost:8080/"
        },
        "id": "bVx6pk7BS1rA",
        "outputId": "55537c6a-2ba8-4154-a3e0-95711cb04782"
      },
      "outputs": [
        {
          "name": "stdout",
          "output_type": "stream",
          "text": [
            "/content/drive/MyDrive/HealthCard/COCO\n"
          ]
        }
      ],
      "source": [
        "%cd /content/drive/MyDrive/HealthCard/COCO"
      ]
    },
    {
      "cell_type": "code",
      "execution_count": null,
      "metadata": {
        "colab": {
          "base_uri": "https://localhost:8080/"
        },
        "execution": {
          "iopub.execute_input": "2023-02-06T15:03:41.572357Z",
          "iopub.status.busy": "2023-02-06T15:03:41.572046Z",
          "iopub.status.idle": "2023-02-06T15:03:41.591428Z",
          "shell.execute_reply": "2023-02-06T15:03:41.590681Z",
          "shell.execute_reply.started": "2023-02-06T15:03:41.572321Z"
        },
        "id": "eVRJpMi7SVS-",
        "outputId": "320f7d80-6857-40bd-c67e-9a89745ebba6",
        "trusted": true
      },
      "outputs": [
        {
          "name": "stdout",
          "output_type": "stream",
          "text": [
            "thing_classes= ['DOB', 'EDate', 'FName', 'IDate', 'Id', 'LName', 'MName']\n",
            "thing_classes_id= {'DOB': 0, 'EDate': 1, 'FName': 2, 'IDate': 3, 'Id': 4, 'LName': 5, 'MName': 6}\n"
          ]
        }
      ],
      "source": [
        "f = open('result.json')\n",
        "thing_classes  = []\n",
        "thing_classes_id = {}\n",
        "data_annotations=[]\n",
        "data = json.load(f)\n",
        "#----Images----\n",
        "data_images=data['images']\n",
        "#---annotations-\n",
        "for i in data['annotations']:\n",
        "    annot_obj ={\"id\": i['id'],\"image_id\": i['image_id'],\"category_id\":i['category_id'],\n",
        "          \"x_min\":i['bbox'][0], #left\n",
        "          \"y_min\":i['bbox'][1], #top\n",
        "          \"x_max\":i['bbox'][0]+i['bbox'][2], #left+width\n",
        "          \"y_max\":i['bbox'][1]+i['bbox'][3] #top+hieght\n",
        "         }\n",
        "    data_annotations.append(annot_obj) \n",
        "#---categories-\n",
        "for i in data['categories']:\n",
        "    thing_classes.append(i['name'])\n",
        "    thing_classes_id[i['name']]=i['id']\n",
        "f.close()\n",
        "print(\"thing_classes=\",thing_classes)\n",
        "print(\"thing_classes_id=\",thing_classes_id)"
      ]
    },
    {
      "cell_type": "code",
      "execution_count": null,
      "metadata": {
        "execution": {
          "iopub.execute_input": "2021-10-24T17:40:25.266689Z",
          "iopub.status.busy": "2021-10-24T17:40:25.266252Z",
          "iopub.status.idle": "2021-10-24T17:40:25.273295Z",
          "shell.execute_reply": "2021-10-24T17:40:25.271999Z",
          "shell.execute_reply.started": "2021-10-24T17:40:25.266569Z"
        },
        "id": "GW8GmbP5SVS_",
        "trusted": true
      },
      "outputs": [],
      "source": []
    },
    {
      "cell_type": "code",
      "execution_count": null,
      "metadata": {
        "colab": {
          "base_uri": "https://localhost:8080/",
          "height": 726
        },
        "execution": {
          "iopub.execute_input": "2023-02-06T15:03:44.541919Z",
          "iopub.status.busy": "2023-02-06T15:03:44.541377Z",
          "iopub.status.idle": "2023-02-06T15:03:44.559034Z",
          "shell.execute_reply": "2023-02-06T15:03:44.558053Z",
          "shell.execute_reply.started": "2023-02-06T15:03:44.541884Z"
        },
        "id": "7HZMHaWbSVTA",
        "outputId": "c7cd47c8-7527-4053-cfaa-8ada09c44ec4",
        "trusted": true
      },
      "outputs": [
        {
          "name": "stdout",
          "output_type": "stream",
          "text": [
            "train_meta size= 21\n"
          ]
        },
        {
          "data": {
            "text/html": [
              "\n",
              "  <div id=\"df-c0fd58bc-b33f-4951-860c-e8fd3c736ee9\">\n",
              "    <div class=\"colab-df-container\">\n",
              "      <div>\n",
              "<style scoped>\n",
              "    .dataframe tbody tr th:only-of-type {\n",
              "        vertical-align: middle;\n",
              "    }\n",
              "\n",
              "    .dataframe tbody tr th {\n",
              "        vertical-align: top;\n",
              "    }\n",
              "\n",
              "    .dataframe thead th {\n",
              "        text-align: right;\n",
              "    }\n",
              "</style>\n",
              "<table border=\"1\" class=\"dataframe\">\n",
              "  <thead>\n",
              "    <tr style=\"text-align: right;\">\n",
              "      <th></th>\n",
              "      <th>image_id</th>\n",
              "      <th>file_name</th>\n",
              "      <th>width</th>\n",
              "      <th>height</th>\n",
              "    </tr>\n",
              "  </thead>\n",
              "  <tbody>\n",
              "    <tr>\n",
              "      <th>0</th>\n",
              "      <td>0</td>\n",
              "      <td>77f17f42-IMG_6637.JPG</td>\n",
              "      <td>3024</td>\n",
              "      <td>4032</td>\n",
              "    </tr>\n",
              "    <tr>\n",
              "      <th>1</th>\n",
              "      <td>1</td>\n",
              "      <td>3c355f99-IMG_6638.JPG</td>\n",
              "      <td>3024</td>\n",
              "      <td>4032</td>\n",
              "    </tr>\n",
              "    <tr>\n",
              "      <th>2</th>\n",
              "      <td>2</td>\n",
              "      <td>3a9e546a-IMG_6639.JPG</td>\n",
              "      <td>3024</td>\n",
              "      <td>4032</td>\n",
              "    </tr>\n",
              "    <tr>\n",
              "      <th>3</th>\n",
              "      <td>3</td>\n",
              "      <td>0ce52bb6-IMG_6640.JPG</td>\n",
              "      <td>3024</td>\n",
              "      <td>4032</td>\n",
              "    </tr>\n",
              "    <tr>\n",
              "      <th>4</th>\n",
              "      <td>4</td>\n",
              "      <td>b91bed45-IMG_6642.JPG</td>\n",
              "      <td>3024</td>\n",
              "      <td>4032</td>\n",
              "    </tr>\n",
              "    <tr>\n",
              "      <th>5</th>\n",
              "      <td>5</td>\n",
              "      <td>2a36462b-IMG_6643.JPG</td>\n",
              "      <td>3024</td>\n",
              "      <td>4032</td>\n",
              "    </tr>\n",
              "    <tr>\n",
              "      <th>6</th>\n",
              "      <td>6</td>\n",
              "      <td>80b2ed21-IMG_6644.JPG</td>\n",
              "      <td>3024</td>\n",
              "      <td>4032</td>\n",
              "    </tr>\n",
              "    <tr>\n",
              "      <th>7</th>\n",
              "      <td>7</td>\n",
              "      <td>f9dfa2e6-IMG_6645.JPG</td>\n",
              "      <td>3024</td>\n",
              "      <td>4032</td>\n",
              "    </tr>\n",
              "    <tr>\n",
              "      <th>8</th>\n",
              "      <td>8</td>\n",
              "      <td>12fb4510-IMG_6646.JPG</td>\n",
              "      <td>3024</td>\n",
              "      <td>4032</td>\n",
              "    </tr>\n",
              "    <tr>\n",
              "      <th>9</th>\n",
              "      <td>9</td>\n",
              "      <td>48b45ec6-IMG_6647.JPG</td>\n",
              "      <td>3024</td>\n",
              "      <td>4032</td>\n",
              "    </tr>\n",
              "    <tr>\n",
              "      <th>10</th>\n",
              "      <td>10</td>\n",
              "      <td>7b4825cb-IMG_6648.JPG</td>\n",
              "      <td>3024</td>\n",
              "      <td>4032</td>\n",
              "    </tr>\n",
              "    <tr>\n",
              "      <th>11</th>\n",
              "      <td>11</td>\n",
              "      <td>4e3ada6d-IMG_6649.JPG</td>\n",
              "      <td>3024</td>\n",
              "      <td>4032</td>\n",
              "    </tr>\n",
              "    <tr>\n",
              "      <th>12</th>\n",
              "      <td>12</td>\n",
              "      <td>8e81570b-IMG_6651.JPG</td>\n",
              "      <td>3024</td>\n",
              "      <td>4032</td>\n",
              "    </tr>\n",
              "    <tr>\n",
              "      <th>13</th>\n",
              "      <td>13</td>\n",
              "      <td>c65b76ad-IMG_6652.JPG</td>\n",
              "      <td>3024</td>\n",
              "      <td>4032</td>\n",
              "    </tr>\n",
              "    <tr>\n",
              "      <th>14</th>\n",
              "      <td>14</td>\n",
              "      <td>a459e673-IMG_6653.JPG</td>\n",
              "      <td>3024</td>\n",
              "      <td>4032</td>\n",
              "    </tr>\n",
              "    <tr>\n",
              "      <th>15</th>\n",
              "      <td>15</td>\n",
              "      <td>17fd673c-IMG_6654.JPG</td>\n",
              "      <td>3024</td>\n",
              "      <td>4032</td>\n",
              "    </tr>\n",
              "    <tr>\n",
              "      <th>16</th>\n",
              "      <td>16</td>\n",
              "      <td>5d02b94e-IMG_6655.JPG</td>\n",
              "      <td>3024</td>\n",
              "      <td>4032</td>\n",
              "    </tr>\n",
              "    <tr>\n",
              "      <th>17</th>\n",
              "      <td>17</td>\n",
              "      <td>99c5fe95-IMG_6656.JPG</td>\n",
              "      <td>3024</td>\n",
              "      <td>4032</td>\n",
              "    </tr>\n",
              "    <tr>\n",
              "      <th>18</th>\n",
              "      <td>18</td>\n",
              "      <td>1dfd4820-IMG_6657.JPG</td>\n",
              "      <td>3024</td>\n",
              "      <td>4032</td>\n",
              "    </tr>\n",
              "    <tr>\n",
              "      <th>19</th>\n",
              "      <td>19</td>\n",
              "      <td>82986c1c-IMG_6658.JPG</td>\n",
              "      <td>3024</td>\n",
              "      <td>4032</td>\n",
              "    </tr>\n",
              "    <tr>\n",
              "      <th>20</th>\n",
              "      <td>20</td>\n",
              "      <td>2329a4c3-IMG_6659.JPG</td>\n",
              "      <td>3024</td>\n",
              "      <td>4032</td>\n",
              "    </tr>\n",
              "  </tbody>\n",
              "</table>\n",
              "</div>\n",
              "      <button class=\"colab-df-convert\" onclick=\"convertToInteractive('df-c0fd58bc-b33f-4951-860c-e8fd3c736ee9')\"\n",
              "              title=\"Convert this dataframe to an interactive table.\"\n",
              "              style=\"display:none;\">\n",
              "        \n",
              "  <svg xmlns=\"http://www.w3.org/2000/svg\" height=\"24px\"viewBox=\"0 0 24 24\"\n",
              "       width=\"24px\">\n",
              "    <path d=\"M0 0h24v24H0V0z\" fill=\"none\"/>\n",
              "    <path d=\"M18.56 5.44l.94 2.06.94-2.06 2.06-.94-2.06-.94-.94-2.06-.94 2.06-2.06.94zm-11 1L8.5 8.5l.94-2.06 2.06-.94-2.06-.94L8.5 2.5l-.94 2.06-2.06.94zm10 10l.94 2.06.94-2.06 2.06-.94-2.06-.94-.94-2.06-.94 2.06-2.06.94z\"/><path d=\"M17.41 7.96l-1.37-1.37c-.4-.4-.92-.59-1.43-.59-.52 0-1.04.2-1.43.59L10.3 9.45l-7.72 7.72c-.78.78-.78 2.05 0 2.83L4 21.41c.39.39.9.59 1.41.59.51 0 1.02-.2 1.41-.59l7.78-7.78 2.81-2.81c.8-.78.8-2.07 0-2.86zM5.41 20L4 18.59l7.72-7.72 1.47 1.35L5.41 20z\"/>\n",
              "  </svg>\n",
              "      </button>\n",
              "      \n",
              "  <style>\n",
              "    .colab-df-container {\n",
              "      display:flex;\n",
              "      flex-wrap:wrap;\n",
              "      gap: 12px;\n",
              "    }\n",
              "\n",
              "    .colab-df-convert {\n",
              "      background-color: #E8F0FE;\n",
              "      border: none;\n",
              "      border-radius: 50%;\n",
              "      cursor: pointer;\n",
              "      display: none;\n",
              "      fill: #1967D2;\n",
              "      height: 32px;\n",
              "      padding: 0 0 0 0;\n",
              "      width: 32px;\n",
              "    }\n",
              "\n",
              "    .colab-df-convert:hover {\n",
              "      background-color: #E2EBFA;\n",
              "      box-shadow: 0px 1px 2px rgba(60, 64, 67, 0.3), 0px 1px 3px 1px rgba(60, 64, 67, 0.15);\n",
              "      fill: #174EA6;\n",
              "    }\n",
              "\n",
              "    [theme=dark] .colab-df-convert {\n",
              "      background-color: #3B4455;\n",
              "      fill: #D2E3FC;\n",
              "    }\n",
              "\n",
              "    [theme=dark] .colab-df-convert:hover {\n",
              "      background-color: #434B5C;\n",
              "      box-shadow: 0px 1px 3px 1px rgba(0, 0, 0, 0.15);\n",
              "      filter: drop-shadow(0px 1px 2px rgba(0, 0, 0, 0.3));\n",
              "      fill: #FFFFFF;\n",
              "    }\n",
              "  </style>\n",
              "\n",
              "      <script>\n",
              "        const buttonEl =\n",
              "          document.querySelector('#df-c0fd58bc-b33f-4951-860c-e8fd3c736ee9 button.colab-df-convert');\n",
              "        buttonEl.style.display =\n",
              "          google.colab.kernel.accessAllowed ? 'block' : 'none';\n",
              "\n",
              "        async function convertToInteractive(key) {\n",
              "          const element = document.querySelector('#df-c0fd58bc-b33f-4951-860c-e8fd3c736ee9');\n",
              "          const dataTable =\n",
              "            await google.colab.kernel.invokeFunction('convertToInteractive',\n",
              "                                                     [key], {});\n",
              "          if (!dataTable) return;\n",
              "\n",
              "          const docLinkHtml = 'Like what you see? Visit the ' +\n",
              "            '<a target=\"_blank\" href=https://colab.research.google.com/notebooks/data_table.ipynb>data table notebook</a>'\n",
              "            + ' to learn more about interactive tables.';\n",
              "          element.innerHTML = '';\n",
              "          dataTable['output_type'] = 'display_data';\n",
              "          await google.colab.output.renderOutput(dataTable, element);\n",
              "          const docLink = document.createElement('div');\n",
              "          docLink.innerHTML = docLinkHtml;\n",
              "          element.appendChild(docLink);\n",
              "        }\n",
              "      </script>\n",
              "    </div>\n",
              "  </div>\n",
              "  "
            ],
            "text/plain": [
              "    image_id              file_name  width  height\n",
              "0          0  77f17f42-IMG_6637.JPG   3024    4032\n",
              "1          1  3c355f99-IMG_6638.JPG   3024    4032\n",
              "2          2  3a9e546a-IMG_6639.JPG   3024    4032\n",
              "3          3  0ce52bb6-IMG_6640.JPG   3024    4032\n",
              "4          4  b91bed45-IMG_6642.JPG   3024    4032\n",
              "5          5  2a36462b-IMG_6643.JPG   3024    4032\n",
              "6          6  80b2ed21-IMG_6644.JPG   3024    4032\n",
              "7          7  f9dfa2e6-IMG_6645.JPG   3024    4032\n",
              "8          8  12fb4510-IMG_6646.JPG   3024    4032\n",
              "9          9  48b45ec6-IMG_6647.JPG   3024    4032\n",
              "10        10  7b4825cb-IMG_6648.JPG   3024    4032\n",
              "11        11  4e3ada6d-IMG_6649.JPG   3024    4032\n",
              "12        12  8e81570b-IMG_6651.JPG   3024    4032\n",
              "13        13  c65b76ad-IMG_6652.JPG   3024    4032\n",
              "14        14  a459e673-IMG_6653.JPG   3024    4032\n",
              "15        15  17fd673c-IMG_6654.JPG   3024    4032\n",
              "16        16  5d02b94e-IMG_6655.JPG   3024    4032\n",
              "17        17  99c5fe95-IMG_6656.JPG   3024    4032\n",
              "18        18  1dfd4820-IMG_6657.JPG   3024    4032\n",
              "19        19  82986c1c-IMG_6658.JPG   3024    4032\n",
              "20        20  2329a4c3-IMG_6659.JPG   3024    4032"
            ]
          },
          "execution_count": 11,
          "metadata": {},
          "output_type": "execute_result"
        }
      ],
      "source": [
        "train_meta = pd.DataFrame(data_images)\n",
        "train_meta = train_meta[['id', 'file_name', 'width', 'height']]\n",
        "train_meta = train_meta.rename(columns={\"id\":\"image_id\"})\n",
        "print(\"train_meta size=\",len(train_meta))\n",
        "train_meta.head(25)"
      ]
    },
    {
      "cell_type": "code",
      "execution_count": null,
      "metadata": {
        "colab": {
          "base_uri": "https://localhost:8080/",
          "height": 162
        },
        "execution": {
          "iopub.execute_input": "2023-02-06T15:03:47.678813Z",
          "iopub.status.busy": "2023-02-06T15:03:47.678541Z",
          "iopub.status.idle": "2023-02-06T15:03:47.697153Z",
          "shell.execute_reply": "2023-02-06T15:03:47.696167Z",
          "shell.execute_reply.started": "2023-02-06T15:03:47.678785Z"
        },
        "id": "DjJcpyeNSVTC",
        "outputId": "e72154be-ec2d-4426-8a6f-c548d8257b4d",
        "trusted": true
      },
      "outputs": [
        {
          "name": "stdout",
          "output_type": "stream",
          "text": [
            "train_df size= 145\n"
          ]
        },
        {
          "data": {
            "text/html": [
              "\n",
              "  <div id=\"df-12a5a7aa-c8ee-4616-bd6e-5df8ef4fe5e6\">\n",
              "    <div class=\"colab-df-container\">\n",
              "      <div>\n",
              "<style scoped>\n",
              "    .dataframe tbody tr th:only-of-type {\n",
              "        vertical-align: middle;\n",
              "    }\n",
              "\n",
              "    .dataframe tbody tr th {\n",
              "        vertical-align: top;\n",
              "    }\n",
              "\n",
              "    .dataframe thead th {\n",
              "        text-align: right;\n",
              "    }\n",
              "</style>\n",
              "<table border=\"1\" class=\"dataframe\">\n",
              "  <thead>\n",
              "    <tr style=\"text-align: right;\">\n",
              "      <th></th>\n",
              "      <th>id</th>\n",
              "      <th>image_id</th>\n",
              "      <th>category_id</th>\n",
              "      <th>x_min</th>\n",
              "      <th>y_min</th>\n",
              "      <th>x_max</th>\n",
              "      <th>y_max</th>\n",
              "    </tr>\n",
              "  </thead>\n",
              "  <tbody>\n",
              "    <tr>\n",
              "      <th>0</th>\n",
              "      <td>0</td>\n",
              "      <td>0</td>\n",
              "      <td>2</td>\n",
              "      <td>1174.017393</td>\n",
              "      <td>2097.193726</td>\n",
              "      <td>1449.882421</td>\n",
              "      <td>2152.132411</td>\n",
              "    </tr>\n",
              "    <tr>\n",
              "      <th>1</th>\n",
              "      <td>1</td>\n",
              "      <td>0</td>\n",
              "      <td>5</td>\n",
              "      <td>1804.118195</td>\n",
              "      <td>2076.787929</td>\n",
              "      <td>2117.601181</td>\n",
              "      <td>2139.574997</td>\n",
              "    </tr>\n",
              "    <tr>\n",
              "      <th>2</th>\n",
              "      <td>2</td>\n",
              "      <td>0</td>\n",
              "      <td>6</td>\n",
              "      <td>1454.584666</td>\n",
              "      <td>2086.205989</td>\n",
              "      <td>1793.146290</td>\n",
              "      <td>2142.714350</td>\n",
              "    </tr>\n",
              "  </tbody>\n",
              "</table>\n",
              "</div>\n",
              "      <button class=\"colab-df-convert\" onclick=\"convertToInteractive('df-12a5a7aa-c8ee-4616-bd6e-5df8ef4fe5e6')\"\n",
              "              title=\"Convert this dataframe to an interactive table.\"\n",
              "              style=\"display:none;\">\n",
              "        \n",
              "  <svg xmlns=\"http://www.w3.org/2000/svg\" height=\"24px\"viewBox=\"0 0 24 24\"\n",
              "       width=\"24px\">\n",
              "    <path d=\"M0 0h24v24H0V0z\" fill=\"none\"/>\n",
              "    <path d=\"M18.56 5.44l.94 2.06.94-2.06 2.06-.94-2.06-.94-.94-2.06-.94 2.06-2.06.94zm-11 1L8.5 8.5l.94-2.06 2.06-.94-2.06-.94L8.5 2.5l-.94 2.06-2.06.94zm10 10l.94 2.06.94-2.06 2.06-.94-2.06-.94-.94-2.06-.94 2.06-2.06.94z\"/><path d=\"M17.41 7.96l-1.37-1.37c-.4-.4-.92-.59-1.43-.59-.52 0-1.04.2-1.43.59L10.3 9.45l-7.72 7.72c-.78.78-.78 2.05 0 2.83L4 21.41c.39.39.9.59 1.41.59.51 0 1.02-.2 1.41-.59l7.78-7.78 2.81-2.81c.8-.78.8-2.07 0-2.86zM5.41 20L4 18.59l7.72-7.72 1.47 1.35L5.41 20z\"/>\n",
              "  </svg>\n",
              "      </button>\n",
              "      \n",
              "  <style>\n",
              "    .colab-df-container {\n",
              "      display:flex;\n",
              "      flex-wrap:wrap;\n",
              "      gap: 12px;\n",
              "    }\n",
              "\n",
              "    .colab-df-convert {\n",
              "      background-color: #E8F0FE;\n",
              "      border: none;\n",
              "      border-radius: 50%;\n",
              "      cursor: pointer;\n",
              "      display: none;\n",
              "      fill: #1967D2;\n",
              "      height: 32px;\n",
              "      padding: 0 0 0 0;\n",
              "      width: 32px;\n",
              "    }\n",
              "\n",
              "    .colab-df-convert:hover {\n",
              "      background-color: #E2EBFA;\n",
              "      box-shadow: 0px 1px 2px rgba(60, 64, 67, 0.3), 0px 1px 3px 1px rgba(60, 64, 67, 0.15);\n",
              "      fill: #174EA6;\n",
              "    }\n",
              "\n",
              "    [theme=dark] .colab-df-convert {\n",
              "      background-color: #3B4455;\n",
              "      fill: #D2E3FC;\n",
              "    }\n",
              "\n",
              "    [theme=dark] .colab-df-convert:hover {\n",
              "      background-color: #434B5C;\n",
              "      box-shadow: 0px 1px 3px 1px rgba(0, 0, 0, 0.15);\n",
              "      filter: drop-shadow(0px 1px 2px rgba(0, 0, 0, 0.3));\n",
              "      fill: #FFFFFF;\n",
              "    }\n",
              "  </style>\n",
              "\n",
              "      <script>\n",
              "        const buttonEl =\n",
              "          document.querySelector('#df-12a5a7aa-c8ee-4616-bd6e-5df8ef4fe5e6 button.colab-df-convert');\n",
              "        buttonEl.style.display =\n",
              "          google.colab.kernel.accessAllowed ? 'block' : 'none';\n",
              "\n",
              "        async function convertToInteractive(key) {\n",
              "          const element = document.querySelector('#df-12a5a7aa-c8ee-4616-bd6e-5df8ef4fe5e6');\n",
              "          const dataTable =\n",
              "            await google.colab.kernel.invokeFunction('convertToInteractive',\n",
              "                                                     [key], {});\n",
              "          if (!dataTable) return;\n",
              "\n",
              "          const docLinkHtml = 'Like what you see? Visit the ' +\n",
              "            '<a target=\"_blank\" href=https://colab.research.google.com/notebooks/data_table.ipynb>data table notebook</a>'\n",
              "            + ' to learn more about interactive tables.';\n",
              "          element.innerHTML = '';\n",
              "          dataTable['output_type'] = 'display_data';\n",
              "          await google.colab.output.renderOutput(dataTable, element);\n",
              "          const docLink = document.createElement('div');\n",
              "          docLink.innerHTML = docLinkHtml;\n",
              "          element.appendChild(docLink);\n",
              "        }\n",
              "      </script>\n",
              "    </div>\n",
              "  </div>\n",
              "  "
            ],
            "text/plain": [
              "   id  image_id  category_id        x_min        y_min        x_max  \\\n",
              "0   0         0            2  1174.017393  2097.193726  1449.882421   \n",
              "1   1         0            5  1804.118195  2076.787929  2117.601181   \n",
              "2   2         0            6  1454.584666  2086.205989  1793.146290   \n",
              "\n",
              "         y_max  \n",
              "0  2152.132411  \n",
              "1  2139.574997  \n",
              "2  2142.714350  "
            ]
          },
          "execution_count": 12,
          "metadata": {},
          "output_type": "execute_result"
        }
      ],
      "source": [
        "train_df = pd.DataFrame(data_annotations)\n",
        "print(\"train_df size=\",len(train_df))\n",
        "train_df.head(3)"
      ]
    },
    {
      "cell_type": "markdown",
      "metadata": {
        "id": "7BNB5VrBSVTC"
      },
      "source": [
        "# configs"
      ]
    },
    {
      "cell_type": "code",
      "execution_count": null,
      "metadata": {
        "execution": {
          "iopub.execute_input": "2023-02-06T15:03:54.058686Z",
          "iopub.status.busy": "2023-02-06T15:03:54.056869Z",
          "iopub.status.idle": "2023-02-06T15:03:54.063591Z",
          "shell.execute_reply": "2023-02-06T15:03:54.062646Z",
          "shell.execute_reply.started": "2023-02-06T15:03:54.058644Z"
        },
        "id": "EKEuRSUuSVTD",
        "trusted": true
      },
      "outputs": [],
      "source": [
        "imgdir=\"images\"\n",
        "\n",
        "debug=False\n",
        "split_mode=\"valid20\" # all_train Or  valid20 \n",
        "image_Width=640\n",
        "image_Height=480\n",
        "\n",
        "num_folds=1\n",
        "Selected_fold=1 #1,2,3,4,5 "
      ]
    },
    {
      "cell_type": "code",
      "execution_count": null,
      "metadata": {
        "execution": {
          "iopub.execute_input": "2023-02-06T15:03:56.668025Z",
          "iopub.status.busy": "2023-02-06T15:03:56.667702Z",
          "iopub.status.idle": "2023-02-06T15:03:56.677022Z",
          "shell.execute_reply": "2023-02-06T15:03:56.676252Z",
          "shell.execute_reply.started": "2023-02-06T15:03:56.667984Z"
        },
        "id": "iXJnUO2MSVTD",
        "trusted": true
      },
      "outputs": [],
      "source": [
        "def get_PL_data_dicts(\n",
        "    imgdir: Path,\n",
        "    _train_df: pd.DataFrame,\n",
        "    _train_meta: pd.DataFrame,\n",
        "    use_cache: bool = True,\n",
        "    target_indices: Optional[np.ndarray] = None,\n",
        "    debug: bool = False,\n",
        "    data_type:str=\"train\"\n",
        "   \n",
        "):\n",
        "    if debug:\n",
        "            train_meta = train_meta.iloc[:100]  # For debug...\n",
        "    dataset_dicts = []\n",
        "    for index, train_meta_row in tqdm(_train_meta.iterrows(), total=len(_train_meta)):\n",
        "                    record = {}\n",
        "                    image_id,file_name, width,height = train_meta_row.values\n",
        "                    filename = str(f'{imgdir}/{file_name}')\n",
        "                    record[\"file_name\"] = filename\n",
        "                    record[\"image_id\"] = image_id\n",
        "                    record[\"width\"] = width\n",
        "                    record[\"height\"] = height\n",
        "                    objs = []\n",
        "                    for index2, row in _train_df.query(\"image_id == @image_id\").iterrows():\n",
        "                        class_id = row[\"category_id\"]\n",
        "                        bbox_resized = [\n",
        "                            float(row[\"x_min\"]),\n",
        "                            float(row[\"y_min\"]),\n",
        "                            float(row[\"x_max\"]),\n",
        "                            float(row[\"y_max\"]),\n",
        "                        ]\n",
        "                        obj = {\n",
        "                            \"bbox\": bbox_resized,\n",
        "                            \"bbox_mode\": BoxMode.XYXY_ABS,\n",
        "                            \"category_id\": class_id,\n",
        "                        }\n",
        "                        objs.append(obj)\n",
        "                    record[\"annotations\"] = objs\n",
        "                    dataset_dicts.append(record)\n",
        "                    \n",
        "    if target_indices is not None:\n",
        "        dataset_dicts = [dataset_dicts[i] for i in target_indices]\n",
        "\n",
        "    return dataset_dicts\n",
        "\n",
        "                                  "
      ]
    },
    {
      "cell_type": "code",
      "execution_count": null,
      "metadata": {
        "colab": {
          "base_uri": "https://localhost:8080/",
          "height": 99,
          "referenced_widgets": [
            "538f34ae509f49fe9a0bf42bc0a8725a",
            "993a0a2b79584dc18b24e9d4199d23f9",
            "541818b6710a413fa42328c57a5e4965",
            "3088bc91e28b4b87a89873deaff343b6",
            "7253fb680ef34b28ac961c600f87c4dd",
            "249190b2c5d54d45aad7f5f5a8ebfd1a",
            "550142c76e344ebfadf066b1239ededf",
            "09073d0393484b9195b762fad76e6bcf",
            "8e515592db0c46a1ac4fdca62c16a138",
            "f2e69e2c04724f90ae919009cac073b7",
            "b5cf52c73c344dd7be95ced1d32295de",
            "854351e475ec49ad82fe04111e90fab4",
            "0f0c568ecea9404eb46edad505579189",
            "50aabca008144a74bdef0525b40bb3bd",
            "66ece2ade83a44e48090ba123600f15b",
            "876c5b8cd7874c96ba49e80707971681",
            "3f3060d1f5ca44cbba84d0aed1c16ae2",
            "d971412850534e36a8772e5ed2f3a30a",
            "3461fa8f7965484ea56407e910990442",
            "20e13062e901407e9c406e8facc86b0f",
            "3c2a3cf0fb3644d2a7c9180deec3adfd",
            "c93d4e85cc224677a2434f0d574ce7f8"
          ]
        },
        "execution": {
          "iopub.execute_input": "2023-02-06T15:04:08.630966Z",
          "iopub.status.busy": "2023-02-06T15:04:08.630696Z",
          "iopub.status.idle": "2023-02-06T15:04:08.827957Z",
          "shell.execute_reply": "2023-02-06T15:04:08.827222Z",
          "shell.execute_reply.started": "2023-02-06T15:04:08.630937Z"
        },
        "id": "R7KWk5NOSVTE",
        "outputId": "7b4d61d2-21f3-4146-ea06-11f98e2117e5",
        "trusted": true
      },
      "outputs": [
        {
          "name": "stdout",
          "output_type": "stream",
          "text": [
            "n_dataset 21 n_train 19\n"
          ]
        },
        {
          "data": {
            "application/vnd.jupyter.widget-view+json": {
              "model_id": "538f34ae509f49fe9a0bf42bc0a8725a",
              "version_major": 2,
              "version_minor": 0
            },
            "text/plain": [
              "  0%|          | 0/21 [00:00<?, ?it/s]"
            ]
          },
          "metadata": {},
          "output_type": "display_data"
        },
        {
          "data": {
            "application/vnd.jupyter.widget-view+json": {
              "model_id": "854351e475ec49ad82fe04111e90fab4",
              "version_major": 2,
              "version_minor": 0
            },
            "text/plain": [
              "  0%|          | 0/21 [00:00<?, ?it/s]"
            ]
          },
          "metadata": {},
          "output_type": "display_data"
        }
      ],
      "source": [
        "Data_Resister_training=\"PL_data_train2\";\n",
        "Data_Resister_valid=\"PL_data_valid2\";\n",
        "\n",
        "if split_mode == \"all_train\":\n",
        "    DatasetCatalog.register(\n",
        "        Data_Resister_training,\n",
        "        lambda: get_PL_data_dicts(\n",
        "            imgdir,\n",
        "            train_df,\n",
        "            train_meta,\n",
        "            debug=debug,\n",
        "            data_type=\"train\"\n",
        "        ),\n",
        "    )\n",
        "    MetadataCatalog.get(Data_Resister_training).set(thing_classes=thing_classes)\n",
        "    \n",
        "    \n",
        "    dataset_dicts_train = DatasetCatalog.get(Data_Resister_training)\n",
        "    metadata_dicts_train = MetadataCatalog.get(Data_Resister_training)\n",
        "    \n",
        "    \n",
        "elif split_mode == \"valid20\":\n",
        "\n",
        "    n_dataset = len(train_meta)\n",
        "    n_train = int(n_dataset * 0.95)\n",
        "    print(\"n_dataset\", n_dataset, \"n_train\", n_train)\n",
        "    rs = np.random.RandomState(12)\n",
        "    inds = rs.permutation(n_dataset)\n",
        "    train_inds, valid_inds = inds[:n_train], inds[n_train:]\n",
        "    DatasetCatalog.register(\n",
        "        Data_Resister_training,\n",
        "        lambda: get_PL_data_dicts(\n",
        "            imgdir,\n",
        "            train_df,\n",
        "            train_meta,\n",
        "            target_indices=train_inds,\n",
        "            debug=debug,\n",
        "            data_type=\"train\"\n",
        "        ),\n",
        "    )\n",
        "    MetadataCatalog.get(Data_Resister_training).set(thing_classes=thing_classes)\n",
        "    \n",
        "\n",
        "    DatasetCatalog.register(\n",
        "        Data_Resister_valid,\n",
        "        lambda: get_PL_data_dicts(\n",
        "            imgdir,\n",
        "            train_df,\n",
        "            train_meta,\n",
        "            target_indices=valid_inds,\n",
        "            debug=debug,\n",
        "            data_type=\"val\"\n",
        "            ),\n",
        "        )\n",
        "    MetadataCatalog.get(Data_Resister_valid).set(thing_classes=thing_classes)\n",
        "    \n",
        "    dataset_dicts_train = DatasetCatalog.get(Data_Resister_training)\n",
        "    metadata_dicts_train = MetadataCatalog.get(Data_Resister_training)\n",
        "\n",
        "    dataset_dicts_valid = DatasetCatalog.get(Data_Resister_valid)\n",
        "    metadata_dicts_valid = MetadataCatalog.get(Data_Resister_valid)\n",
        "    \n",
        "else:\n",
        "    raise ValueError(f\"[ERROR] Unexpected value split_mode={split_mode}\")"
      ]
    },
    {
      "cell_type": "code",
      "execution_count": null,
      "metadata": {
        "colab": {
          "base_uri": "https://localhost:8080/"
        },
        "execution": {
          "iopub.execute_input": "2023-02-06T15:04:36.602392Z",
          "iopub.status.busy": "2023-02-06T15:04:36.601695Z",
          "iopub.status.idle": "2023-02-06T15:04:36.608313Z",
          "shell.execute_reply": "2023-02-06T15:04:36.607398Z",
          "shell.execute_reply.started": "2023-02-06T15:04:36.602354Z"
        },
        "id": "zxu8BOyWSVTF",
        "outputId": "b64528d9-8859-4d38-e1c3-e33051068d45",
        "trusted": true
      },
      "outputs": [
        {
          "name": "stdout",
          "output_type": "stream",
          "text": [
            "dicts training size= 19 ################  dicts valid size= 2\n"
          ]
        }
      ],
      "source": [
        "print(\"dicts training size=\",len(dataset_dicts_train),\"################  dicts valid size=\",len(dataset_dicts_valid))"
      ]
    },
    {
      "cell_type": "code",
      "execution_count": null,
      "metadata": {
        "colab": {
          "base_uri": "https://localhost:8080/"
        },
        "execution": {
          "iopub.execute_input": "2023-02-06T15:04:38.743034Z",
          "iopub.status.busy": "2023-02-06T15:04:38.742761Z",
          "iopub.status.idle": "2023-02-06T15:04:38.749870Z",
          "shell.execute_reply": "2023-02-06T15:04:38.749207Z",
          "shell.execute_reply.started": "2023-02-06T15:04:38.743003Z"
        },
        "id": "7KfGAr0MSVTG",
        "outputId": "22f832b9-bc29-423b-83bf-c1bb8d3c9b3a",
        "trusted": true
      },
      "outputs": [
        {
          "data": {
            "text/plain": [
              "{'file_name': 'images/f9dfa2e6-IMG_6645.JPG',\n",
              " 'image_id': 7,\n",
              " 'width': 3024,\n",
              " 'height': 4032,\n",
              " 'annotations': [{'bbox': [1200.28955658144,\n",
              "    1984.9294304464079,\n",
              "    1524.958043197731,\n",
              "    2088.382107081718],\n",
              "   'bbox_mode': <BoxMode.XYXY_ABS: 0>,\n",
              "   'category_id': 2.0},\n",
              "  {'bbox': [2287.4370647965975,\n",
              "    1960.297840771334,\n",
              "    2744.924477755917,\n",
              "    2073.6031532766738],\n",
              "   'bbox_mode': <BoxMode.XYXY_ABS: 0>,\n",
              "   'category_id': 6.0},\n",
              "  {'bbox': [1524.9580431977288,\n",
              "    1975.076794576377,\n",
              "    2272.679406314035,\n",
              "    2068.676835341656],\n",
              "   'bbox_mode': <BoxMode.XYXY_ABS: 0>,\n",
              "   'category_id': 4.0},\n",
              "  {'bbox': [1210.1279955698105,\n",
              "    2073.603153276671,\n",
              "    2405.4983326570627,\n",
              "    2211.540055457088],\n",
              "   'bbox_mode': <BoxMode.XYXY_ABS: 0>,\n",
              "   'category_id': 0.0},\n",
              "  {'bbox': [1111.743605686086,\n",
              "    2374.1085473125736,\n",
              "    1800.4343348721573,\n",
              "    2477.5612239478855],\n",
              "   'bbox_mode': <BoxMode.XYXY_ABS: 0>,\n",
              "   'category_id': 0.0},\n",
              "  {'bbox': [1146.1781421453916,\n",
              "    2649.9823516734036,\n",
              "    1795.5151153779739,\n",
              "    2733.729756568655],\n",
              "   'bbox_mode': <BoxMode.XYXY_ABS: 0>,\n",
              "   'category_id': 3.0},\n",
              "  {'bbox': [1795.5151153779725,\n",
              "    2630.277079933342,\n",
              "    2405.4983326570646,\n",
              "    2718.9508027636098],\n",
              "   'bbox_mode': <BoxMode.XYXY_ABS: 0>,\n",
              "   'category_id': 1.0}]}"
            ]
          },
          "execution_count": 17,
          "metadata": {},
          "output_type": "execute_result"
        }
      ],
      "source": [
        "dataset_dicts_train[0]"
      ]
    },
    {
      "cell_type": "code",
      "execution_count": null,
      "metadata": {
        "colab": {
          "base_uri": "https://localhost:8080/"
        },
        "execution": {
          "iopub.execute_input": "2023-02-06T15:04:43.354024Z",
          "iopub.status.busy": "2023-02-06T15:04:43.353469Z",
          "iopub.status.idle": "2023-02-06T15:04:43.360022Z",
          "shell.execute_reply": "2023-02-06T15:04:43.359370Z",
          "shell.execute_reply.started": "2023-02-06T15:04:43.353987Z"
        },
        "id": "C-MtABc1SVTG",
        "outputId": "9f99f59e-5fe9-48c9-a92f-9b6f2225ee35",
        "trusted": true
      },
      "outputs": [
        {
          "data": {
            "text/plain": [
              "{'file_name': 'images/80b2ed21-IMG_6644.JPG',\n",
              " 'image_id': 6,\n",
              " 'width': 3024,\n",
              " 'height': 4032,\n",
              " 'annotations': [{'bbox': [1101.367583801008,\n",
              "    1926.5513021818324,\n",
              "    1390.3183907814162,\n",
              "    1990.4813894472386],\n",
              "   'bbox_mode': <BoxMode.XYXY_ABS: 0>,\n",
              "   'category_id': 2.0},\n",
              "  {'bbox': [1806.945135729912,\n",
              "    1913.0923364417467,\n",
              "    2112.695408232437,\n",
              "    1977.0224237071527],\n",
              "   'bbox_mode': <BoxMode.XYXY_ABS: 0>,\n",
              "   'category_id': 6.0},\n",
              "  {'bbox': [1397.0381769902629,\n",
              "    1926.5513021818324,\n",
              "    1813.6649219387587,\n",
              "    1983.7519065771958],\n",
              "   'bbox_mode': <BoxMode.XYXY_ABS: 0>,\n",
              "   'category_id': 5.0},\n",
              "  {'bbox': [1101.3675838010079,\n",
              "    1987.1166480122165,\n",
              "    2005.1788288908892,\n",
              "    2084.694149627837],\n",
              "   'bbox_mode': <BoxMode.XYXY_ABS: 0>,\n",
              "   'category_id': 0.0},\n",
              "  {'bbox': [1111.4472631142783,\n",
              "    2215.9190655936695,\n",
              "    1575.112511524701,\n",
              "    2289.9433771641397],\n",
              "   'bbox_mode': <BoxMode.XYXY_ABS: 0>,\n",
              "   'category_id': 3.0},\n",
              "  {'bbox': [1108.0873700098548,\n",
              "    2414.43881025993,\n",
              "    1561.6729391070073,\n",
              "    2491.8278632654215],\n",
              "   'bbox_mode': <BoxMode.XYXY_ABS: 0>,\n",
              "   'category_id': 3.0},\n",
              "  {'bbox': [1565.0328322114303,\n",
              "    2404.344585954866,\n",
              "    1995.0991495776195,\n",
              "    2468.2746732202722],\n",
              "   'bbox_mode': <BoxMode.XYXY_ABS: 0>,\n",
              "   'category_id': 1.0}]}"
            ]
          },
          "execution_count": 18,
          "metadata": {},
          "output_type": "execute_result"
        }
      ],
      "source": [
        "dataset_dicts_valid[0]"
      ]
    },
    {
      "cell_type": "markdown",
      "metadata": {
        "id": "mrQ0q0K2SVTH"
      },
      "source": [
        "# Data Visualization"
      ]
    },
    {
      "cell_type": "markdown",
      "metadata": {
        "execution": {
          "iopub.status.busy": "2021-10-08T06:24:24.898373Z",
          "iopub.status.idle": "2021-10-08T06:24:24.898792Z",
          "shell.execute_reply": "2021-10-08T06:24:24.898591Z",
          "shell.execute_reply.started": "2021-10-08T06:24:24.898569Z"
        },
        "id": "Q57qM6vUSVTI"
      },
      "source": [
        "fig = plt.figure(figsize =(40,40))\n",
        "ax = fig.add_subplot(1,1,1)\n",
        "\n",
        "d=dataset_dicts_valid[1]   \n",
        "img = cv2.imread(d[\"file_name\"])\n",
        "v = Visualizer(img[:, :, ::-1],\n",
        "                metadata=metadata_dicts_valid, \n",
        "                scale=1.5, \n",
        "                instance_mode=ColorMode.IMAGE_BW   # remove the colors of unsegmented pixels. This option is only available for segmentation models\n",
        ")\n",
        "out = v.draw_dataset_dict(d)\n",
        "ax.grid(False)\n",
        "ax.axis('off')\n",
        "ax.imshow(out.get_image()[:, :, ::-1])"
      ]
    },
    {
      "cell_type": "markdown",
      "metadata": {
        "id": "SAiVLYSjSVTJ"
      },
      "source": [
        "# Data Augmentation"
      ]
    },
    {
      "cell_type": "code",
      "execution_count": null,
      "metadata": {
        "execution": {
          "iopub.execute_input": "2023-02-06T15:07:57.744250Z",
          "iopub.status.busy": "2023-02-06T15:07:57.743974Z",
          "iopub.status.idle": "2023-02-06T15:07:57.753085Z",
          "shell.execute_reply": "2023-02-06T15:07:57.752389Z",
          "shell.execute_reply.started": "2023-02-06T15:07:57.744219Z"
        },
        "id": "xBK2MyXXSVTK",
        "trusted": true
      },
      "outputs": [],
      "source": [
        "def custom_mapper(dataset_dict):\n",
        "    \n",
        "    dataset_dict = copy.deepcopy(dataset_dict)\n",
        "    image = utils.read_image(dataset_dict[\"file_name\"], format=\"BGR\")\n",
        "    transform_list = [T.RandomBrightness(0.8, 1.2),\n",
        "                      T.RandomFlip(prob=0.5, horizontal=False, vertical=True),\n",
        "                      T.RandomFlip(prob=0.5, horizontal=True, vertical=False)\n",
        "                      ]\n",
        "    image, transforms = T.apply_transform_gens(transform_list, image)\n",
        "    dataset_dict[\"image\"] = torch.as_tensor(image.transpose(2, 0, 1).astype(\"float32\"))\n",
        "\n",
        "    annos = [\n",
        "        utils.transform_instance_annotations(obj, transforms, image.shape[:2])\n",
        "        for obj in dataset_dict.pop(\"annotations\")\n",
        "        if obj.get(\"iscrowd\", 0) == 0\n",
        "    ]\n",
        "    instances = utils.annotations_to_instances(annos, image.shape[:2])\n",
        "    dataset_dict[\"instances\"] = utils.filter_empty_instances(instances)\n",
        "    return dataset_dict\n",
        "class AugTrainer(DefaultTrainer):\n",
        "    @classmethod\n",
        "    def build_train_loader(cls, cfg):\n",
        "        return build_detection_train_loader(cfg, mapper=custom_mapper)"
      ]
    },
    {
      "cell_type": "code",
      "execution_count": null,
      "metadata": {
        "id": "9Zs7eUAHq0DQ"
      },
      "outputs": [],
      "source": [
        "os.environ[\"PYTORCH_CUDA_ALLOC_CONF\"] = \"max_split_size_mb:512\"\n"
      ]
    },
    {
      "cell_type": "code",
      "execution_count": null,
      "metadata": {
        "_kg_hide-output": true,
        "execution": {
          "iopub.execute_input": "2023-02-06T15:07:58.869631Z",
          "iopub.status.busy": "2023-02-06T15:07:58.869035Z",
          "iopub.status.idle": "2023-02-06T15:08:08.430276Z",
          "shell.execute_reply": "2023-02-06T15:08:08.428759Z",
          "shell.execute_reply.started": "2023-02-06T15:07:58.869593Z"
        },
        "id": "dmGPfFODSVTL",
        "trusted": true
      },
      "outputs": [],
      "source": [
        "import torch\n",
        "torch.cuda.empty_cache()\n",
        "import gc\n",
        "with torch.no_grad() as a:\n",
        "    torch.cuda.empty_cache()\n",
        "\n",
        "\n",
        "cfg = get_cfg()\n",
        "config_name = \"COCO-Detection/faster_rcnn_R_50_FPN_3x.yaml\" \n",
        "\n",
        "cfg.merge_from_file(model_zoo.get_config_file(config_name))\n",
        "\n",
        "cfg.DATASETS.TRAIN = (Data_Resister_training,)\n",
        "\n",
        "if split_mode == \"all_train\":\n",
        "    cfg.DATASETS.TEST = ()\n",
        "else:\n",
        "    cfg.DATASETS.TEST = (Data_Resister_valid,)\n",
        "    cfg.TEST.EVAL_PERIOD = 1000\n",
        "\n",
        "cfg.DATALOADER.NUM_WORKERS = 0\n",
        "#cfg.MODEL.WEIGHTS = model_zoo.get_checkpoint_url(config_name)\n",
        "cfg.MODEL.WEIGHTS=\"Weights/mask_rcnn_R_50_FPN_3x/model_final.pth\"\n",
        "\n",
        "cfg.SOLVER.IMS_PER_BATCH = 4\n",
        "cfg.SOLVER.BASE_LR = 0.0025\n",
        "\n",
        "cfg.SOLVER.WARMUP_ITERS = 10\n",
        "cfg.SOLVER.MAX_ITER = 2000 #adjust up if val mAP is still rising, adjust down if overfit\n",
        "cfg.SOLVER.STEPS = (500, 1000) # must be less than  MAX_ITER \n",
        "cfg.SOLVER.GAMMA = 0.05\n",
        "\n",
        "\n",
        "cfg.SOLVER.CHECKPOINT_PERIOD = 100000  # Small value=Frequent save need a lot of storage.\n",
        "cfg.MODEL.ROI_HEADS.BATCH_SIZE_PER_IMAGE = 2\n",
        "cfg.MODEL.RPN.BATCH_SIZE_PER_IMAGE = 2\n",
        "cfg.MODEL.ROI_HEADS.NUM_CLASSES = 7 \n",
        "cfg.MODEL.DEVICE = \"cpu\"\n",
        "\n",
        "\n",
        "os.makedirs(cfg.OUTPUT_DIR, exist_ok=True)\n",
        "\n",
        "\n",
        "#Training using custom trainer defined above\n",
        "trainer = AugTrainer(cfg) \n",
        "#trainer = DefaultTrainer(cfg) \n",
        "trainer.resume_or_load(resume=True)\n",
        "trainer.train()"
      ]
    },
    {
      "cell_type": "code",
      "execution_count": null,
      "metadata": {
        "colab": {
          "base_uri": "https://localhost:8080/"
        },
        "id": "kL_c6pfhsK1i",
        "outputId": "fb1e2de2-3638-4c97-8878-4ae9785bd9d8"
      },
      "outputs": [
        {
          "data": {
            "text/plain": [
              "7868"
            ]
          },
          "execution_count": 39,
          "metadata": {},
          "output_type": "execute_result"
        }
      ],
      "source": [
        "import gc\n",
        "torch.cuda.empty_cache()\n",
        "gc.collect()"
      ]
    },
    {
      "cell_type": "code",
      "execution_count": null,
      "metadata": {
        "execution": {
          "iopub.status.busy": "2023-02-06T15:08:08.431240Z",
          "iopub.status.idle": "2023-02-06T15:08:08.431717Z",
          "shell.execute_reply": "2023-02-06T15:08:08.431526Z",
          "shell.execute_reply.started": "2023-02-06T15:08:08.431503Z"
        },
        "id": "oC2MgbXASVTM",
        "trusted": true
      },
      "outputs": [],
      "source": [
        "evaluator = COCOEvaluator(Data_Resister_training, cfg, False, output_dir=\"./output/\")\n",
        "cfg.MODEL.WEIGHTS=\"./output/model_final.pth\"\n",
        "cfg.MODEL.ROI_HEADS.SCORE_THRESH_TEST = 0.5   # set a custom testing threshold\n",
        "val_loader = build_detection_test_loader(cfg, Data_Resister_training)\n",
        "inference_on_dataset(trainer.model, val_loader, evaluator)"
      ]
    },
    {
      "cell_type": "code",
      "execution_count": null,
      "metadata": {
        "execution": {
          "iopub.execute_input": "2021-10-24T17:52:01.021679Z",
          "iopub.status.busy": "2021-10-24T17:52:01.021355Z",
          "iopub.status.idle": "2021-10-24T17:52:01.123567Z",
          "shell.execute_reply": "2021-10-24T17:52:01.12241Z",
          "shell.execute_reply.started": "2021-10-24T17:52:01.021637Z"
        },
        "id": "sWXJrzh5SVTN",
        "trusted": true
      },
      "outputs": [],
      "source": [
        "import pandas as pd\n",
        "metrics_df = pd.read_json(\"./output/metrics.json\", orient=\"records\", lines=True)\n",
        "mdf = metrics_df.sort_values(\"iteration\")\n",
        "mdf.head(10).T"
      ]
    },
    {
      "cell_type": "code",
      "execution_count": null,
      "metadata": {
        "execution": {
          "iopub.execute_input": "2021-10-24T17:52:01.126812Z",
          "iopub.status.busy": "2021-10-24T17:52:01.126209Z",
          "iopub.status.idle": "2021-10-24T17:52:01.457378Z",
          "shell.execute_reply": "2021-10-24T17:52:01.456014Z",
          "shell.execute_reply.started": "2021-10-24T17:52:01.126772Z"
        },
        "id": "ryWl0s3XSVTN",
        "trusted": true
      },
      "outputs": [],
      "source": [
        "fig, ax = plt.subplots()\n",
        "\n",
        "mdf1 = mdf[~mdf[\"total_loss\"].isna()]\n",
        "ax.plot(mdf1[\"iteration\"], mdf1[\"total_loss\"], c=\"C0\", label=\"train\")\n",
        "if \"validation_loss\" in mdf.columns:\n",
        "    mdf2 = mdf[~mdf[\"validation_loss\"].isna()]\n",
        "    ax.plot(mdf2[\"iteration\"], mdf2[\"validation_loss\"], c=\"C1\", label=\"validation\")\n",
        "\n",
        "# ax.set_ylim([0, 0.5])\n",
        "ax.legend()\n",
        "ax.set_title(\"Loss curve\")\n",
        "plt.show()"
      ]
    },
    {
      "cell_type": "code",
      "execution_count": null,
      "metadata": {
        "execution": {
          "iopub.execute_input": "2021-10-24T17:52:01.462911Z",
          "iopub.status.busy": "2021-10-24T17:52:01.462224Z",
          "iopub.status.idle": "2021-10-24T17:52:02.030139Z",
          "shell.execute_reply": "2021-10-24T17:52:02.028918Z",
          "shell.execute_reply.started": "2021-10-24T17:52:01.46287Z"
        },
        "id": "Bj5bws9XSVTO",
        "trusted": true
      },
      "outputs": [],
      "source": [
        "fig, ax = plt.subplots()\n",
        "\n",
        "mdf1 = mdf[~mdf[\"fast_rcnn/cls_accuracy\"].isna()]\n",
        "ax.plot(mdf1[\"iteration\"], mdf1[\"fast_rcnn/cls_accuracy\"], c=\"C0\", label=\"train\")\n",
        "# ax.set_ylim([0, 0.5])\n",
        "ax.legend()\n",
        "ax.set_title(\"Accuracy curve\")\n",
        "plt.show()"
      ]
    },
    {
      "cell_type": "code",
      "execution_count": null,
      "metadata": {
        "execution": {
          "iopub.execute_input": "2021-10-24T17:52:02.032529Z",
          "iopub.status.busy": "2021-10-24T17:52:02.032177Z",
          "iopub.status.idle": "2021-10-24T17:52:02.265144Z",
          "shell.execute_reply": "2021-10-24T17:52:02.263857Z",
          "shell.execute_reply.started": "2021-10-24T17:52:02.032487Z"
        },
        "id": "ecG4BT3uSVTO",
        "trusted": true
      },
      "outputs": [],
      "source": [
        "fig, ax = plt.subplots()\n",
        "mdf1 = mdf[~mdf[\"loss_box_reg\"].isna()]\n",
        "ax.plot(mdf1[\"iteration\"], mdf1[\"loss_box_reg\"], c=\"C0\", label=\"train\")\n",
        "# ax.set_ylim([0, 0.5])\n",
        "ax.legend()\n",
        "ax.set_title(\"loss_box_reg\")\n",
        "plt.show()"
      ]
    },
    {
      "cell_type": "code",
      "execution_count": null,
      "metadata": {
        "_kg_hide-input": true,
        "_kg_hide-output": true,
        "execution": {
          "iopub.execute_input": "2021-10-24T17:42:27.879352Z",
          "iopub.status.busy": "2021-10-24T17:42:27.878878Z",
          "iopub.status.idle": "2021-10-24T17:42:43.170545Z",
          "shell.execute_reply": "2021-10-24T17:42:43.169407Z",
          "shell.execute_reply.started": "2021-10-24T17:42:27.87932Z"
        },
        "id": "GKHKBY4pSVTO",
        "trusted": true
      },
      "outputs": [],
      "source": [
        "!pip install -U layoutparser "
      ]
    },
    {
      "cell_type": "code",
      "execution_count": null,
      "metadata": {
        "execution": {
          "iopub.execute_input": "2021-10-24T17:52:02.267053Z",
          "iopub.status.busy": "2021-10-24T17:52:02.266729Z",
          "iopub.status.idle": "2021-10-24T17:52:02.271852Z",
          "shell.execute_reply": "2021-10-24T17:52:02.270715Z",
          "shell.execute_reply.started": "2021-10-24T17:52:02.267016Z"
        },
        "id": "Ke0N3YpFSVTP",
        "trusted": true
      },
      "outputs": [],
      "source": [
        "import layoutparser as lp"
      ]
    },
    {
      "cell_type": "code",
      "execution_count": null,
      "metadata": {
        "execution": {
          "iopub.execute_input": "2021-10-24T17:52:02.274982Z",
          "iopub.status.busy": "2021-10-24T17:52:02.274169Z",
          "iopub.status.idle": "2021-10-24T17:52:04.110673Z",
          "shell.execute_reply": "2021-10-24T17:52:04.108602Z",
          "shell.execute_reply.started": "2021-10-24T17:52:02.27489Z"
        },
        "id": "RiEtwG4wSVTP",
        "trusted": true
      },
      "outputs": [],
      "source": [
        "model = lp.Detectron2LayoutModel('lp://PubLayNet/faster_rcnn_R_50_FPN_3x/config',\n",
        "                                 './output/model_final.pth',\n",
        "                                 extra_config=[\"MODEL.ROI_HEADS.SCORE_THRESH_TEST\", 0.8],\n",
        "                                 label_map={0:\"None\",1: \"text\", 2: \"title\", 3: \"list\", 4:\"table\", 5:\"figure\"})\n",
        "#######################################################\n",
        "image = cv2.imread('/kaggle/input/papers-images/train/train/PMC3576793_00004.jpg')\n",
        "#plt.imshow(image)\n",
        "color_map = {\n",
        "    'text':   'red',\n",
        "    'title':  'blue',\n",
        "    'list':   'green',\n",
        "    'table':  'yellow',\n",
        "    'figure': 'pink',\n",
        "}\n",
        "\n",
        "layout_predicted = model.detect(image)\n",
        "lp.draw_box(image,\n",
        "              [b.set(id=f'{b.type}/{b.score:.2f}') for b in layout_predicted],\n",
        "              color_map=color_map,\n",
        "              show_element_id=True, id_font_size=10,\n",
        "              id_text_background_color='black',\n",
        "              id_text_color='white')"
      ]
    },
    {
      "cell_type": "code",
      "execution_count": null,
      "metadata": {
        "execution": {
          "iopub.execute_input": "2021-10-24T17:52:06.877202Z",
          "iopub.status.busy": "2021-10-24T17:52:06.876312Z",
          "iopub.status.idle": "2021-10-24T17:52:09.618425Z",
          "shell.execute_reply": "2021-10-24T17:52:09.616958Z",
          "shell.execute_reply.started": "2021-10-24T17:52:06.877165Z"
        },
        "id": "DPKI1j1MSVTQ",
        "trusted": true
      },
      "outputs": [],
      "source": [
        "cfg.MODEL.WEIGHTS = \"./output/model_final.pth\"\n",
        "cfg.MODEL.ROI_HEADS.SCORE_THRESH_TEST = 0.5   # set a custom testing threshold for this model\n",
        "#cfg.DATASETS.TEST = (\"Data_Resister_training\", )\n",
        "predictor = DefaultPredictor(cfg)\n",
        "\n",
        "###############################################################\n",
        "\n",
        "fig, ax = plt.subplots(2, 2, figsize =(20,20))\n",
        "indices=[ax[0][0],ax[1][0],ax[0][1],ax[1][1] ]\n",
        "i=-1\n",
        "# Show some qualitative results by predicting on test set images\n",
        "NUM_TEST_SAMPLES = 4\n",
        "samples = random.sample(dataset_dicts_train, NUM_TEST_SAMPLES)\n",
        "for i, sample in enumerate(samples):\n",
        "    img = cv2.imread(sample[\"file_name\"])\n",
        "    outputs = predictor(img)\n",
        "    visualizer = Visualizer(img, metadata=metadata_dicts_train,scale=0.5,)\n",
        "    visualizer = visualizer.draw_instance_predictions(\n",
        "        outputs[\"instances\"].to(\"cpu\"))\n",
        "    display_img = visualizer.get_image()[:, :, ::-1]\n",
        "    indices[i].grid(False)\n",
        "    indices[i].imshow(display_img)"
      ]
    }
  ],
  "metadata": {
    "accelerator": "GPU",
    "colab": {
      "provenance": []
    },
    "gpuClass": "standard",
    "kernelspec": {
      "display_name": "cv",
      "language": "python",
      "name": "python3"
    },
    "language_info": {
      "codemirror_mode": {
        "name": "ipython",
        "version": 3
      },
      "file_extension": ".py",
      "mimetype": "text/x-python",
      "name": "python",
      "nbconvert_exporter": "python",
      "pygments_lexer": "ipython3",
      "version": "3.7.10 (default, Feb 26 2021, 13:06:18) [MSC v.1916 64 bit (AMD64)]"
    },
    "vscode": {
      "interpreter": {
        "hash": "c25497626eb387c829d69d77d2a11d4b3d4e6b3e3b316f5a1837374208b5d84c"
      }
    },
    "widgets": {
      "application/vnd.jupyter.widget-state+json": {
        "09073d0393484b9195b762fad76e6bcf": {
          "model_module": "@jupyter-widgets/base",
          "model_module_version": "1.2.0",
          "model_name": "LayoutModel",
          "state": {
            "_model_module": "@jupyter-widgets/base",
            "_model_module_version": "1.2.0",
            "_model_name": "LayoutModel",
            "_view_count": null,
            "_view_module": "@jupyter-widgets/base",
            "_view_module_version": "1.2.0",
            "_view_name": "LayoutView",
            "align_content": null,
            "align_items": null,
            "align_self": null,
            "border": null,
            "bottom": null,
            "display": null,
            "flex": null,
            "flex_flow": null,
            "grid_area": null,
            "grid_auto_columns": null,
            "grid_auto_flow": null,
            "grid_auto_rows": null,
            "grid_column": null,
            "grid_gap": null,
            "grid_row": null,
            "grid_template_areas": null,
            "grid_template_columns": null,
            "grid_template_rows": null,
            "height": null,
            "justify_content": null,
            "justify_items": null,
            "left": null,
            "margin": null,
            "max_height": null,
            "max_width": null,
            "min_height": null,
            "min_width": null,
            "object_fit": null,
            "object_position": null,
            "order": null,
            "overflow": null,
            "overflow_x": null,
            "overflow_y": null,
            "padding": null,
            "right": null,
            "top": null,
            "visibility": null,
            "width": null
          }
        },
        "0f0c568ecea9404eb46edad505579189": {
          "model_module": "@jupyter-widgets/controls",
          "model_module_version": "1.5.0",
          "model_name": "HTMLModel",
          "state": {
            "_dom_classes": [],
            "_model_module": "@jupyter-widgets/controls",
            "_model_module_version": "1.5.0",
            "_model_name": "HTMLModel",
            "_view_count": null,
            "_view_module": "@jupyter-widgets/controls",
            "_view_module_version": "1.5.0",
            "_view_name": "HTMLView",
            "description": "",
            "description_tooltip": null,
            "layout": "IPY_MODEL_3f3060d1f5ca44cbba84d0aed1c16ae2",
            "placeholder": "​",
            "style": "IPY_MODEL_d971412850534e36a8772e5ed2f3a30a",
            "value": "100%"
          }
        },
        "20e13062e901407e9c406e8facc86b0f": {
          "model_module": "@jupyter-widgets/controls",
          "model_module_version": "1.5.0",
          "model_name": "ProgressStyleModel",
          "state": {
            "_model_module": "@jupyter-widgets/controls",
            "_model_module_version": "1.5.0",
            "_model_name": "ProgressStyleModel",
            "_view_count": null,
            "_view_module": "@jupyter-widgets/base",
            "_view_module_version": "1.2.0",
            "_view_name": "StyleView",
            "bar_color": null,
            "description_width": ""
          }
        },
        "249190b2c5d54d45aad7f5f5a8ebfd1a": {
          "model_module": "@jupyter-widgets/base",
          "model_module_version": "1.2.0",
          "model_name": "LayoutModel",
          "state": {
            "_model_module": "@jupyter-widgets/base",
            "_model_module_version": "1.2.0",
            "_model_name": "LayoutModel",
            "_view_count": null,
            "_view_module": "@jupyter-widgets/base",
            "_view_module_version": "1.2.0",
            "_view_name": "LayoutView",
            "align_content": null,
            "align_items": null,
            "align_self": null,
            "border": null,
            "bottom": null,
            "display": null,
            "flex": null,
            "flex_flow": null,
            "grid_area": null,
            "grid_auto_columns": null,
            "grid_auto_flow": null,
            "grid_auto_rows": null,
            "grid_column": null,
            "grid_gap": null,
            "grid_row": null,
            "grid_template_areas": null,
            "grid_template_columns": null,
            "grid_template_rows": null,
            "height": null,
            "justify_content": null,
            "justify_items": null,
            "left": null,
            "margin": null,
            "max_height": null,
            "max_width": null,
            "min_height": null,
            "min_width": null,
            "object_fit": null,
            "object_position": null,
            "order": null,
            "overflow": null,
            "overflow_x": null,
            "overflow_y": null,
            "padding": null,
            "right": null,
            "top": null,
            "visibility": null,
            "width": null
          }
        },
        "3088bc91e28b4b87a89873deaff343b6": {
          "model_module": "@jupyter-widgets/controls",
          "model_module_version": "1.5.0",
          "model_name": "HTMLModel",
          "state": {
            "_dom_classes": [],
            "_model_module": "@jupyter-widgets/controls",
            "_model_module_version": "1.5.0",
            "_model_name": "HTMLModel",
            "_view_count": null,
            "_view_module": "@jupyter-widgets/controls",
            "_view_module_version": "1.5.0",
            "_view_name": "HTMLView",
            "description": "",
            "description_tooltip": null,
            "layout": "IPY_MODEL_f2e69e2c04724f90ae919009cac073b7",
            "placeholder": "​",
            "style": "IPY_MODEL_b5cf52c73c344dd7be95ced1d32295de",
            "value": " 21/21 [00:00&lt;00:00, 129.70it/s]"
          }
        },
        "3461fa8f7965484ea56407e910990442": {
          "model_module": "@jupyter-widgets/base",
          "model_module_version": "1.2.0",
          "model_name": "LayoutModel",
          "state": {
            "_model_module": "@jupyter-widgets/base",
            "_model_module_version": "1.2.0",
            "_model_name": "LayoutModel",
            "_view_count": null,
            "_view_module": "@jupyter-widgets/base",
            "_view_module_version": "1.2.0",
            "_view_name": "LayoutView",
            "align_content": null,
            "align_items": null,
            "align_self": null,
            "border": null,
            "bottom": null,
            "display": null,
            "flex": null,
            "flex_flow": null,
            "grid_area": null,
            "grid_auto_columns": null,
            "grid_auto_flow": null,
            "grid_auto_rows": null,
            "grid_column": null,
            "grid_gap": null,
            "grid_row": null,
            "grid_template_areas": null,
            "grid_template_columns": null,
            "grid_template_rows": null,
            "height": null,
            "justify_content": null,
            "justify_items": null,
            "left": null,
            "margin": null,
            "max_height": null,
            "max_width": null,
            "min_height": null,
            "min_width": null,
            "object_fit": null,
            "object_position": null,
            "order": null,
            "overflow": null,
            "overflow_x": null,
            "overflow_y": null,
            "padding": null,
            "right": null,
            "top": null,
            "visibility": null,
            "width": null
          }
        },
        "3c2a3cf0fb3644d2a7c9180deec3adfd": {
          "model_module": "@jupyter-widgets/base",
          "model_module_version": "1.2.0",
          "model_name": "LayoutModel",
          "state": {
            "_model_module": "@jupyter-widgets/base",
            "_model_module_version": "1.2.0",
            "_model_name": "LayoutModel",
            "_view_count": null,
            "_view_module": "@jupyter-widgets/base",
            "_view_module_version": "1.2.0",
            "_view_name": "LayoutView",
            "align_content": null,
            "align_items": null,
            "align_self": null,
            "border": null,
            "bottom": null,
            "display": null,
            "flex": null,
            "flex_flow": null,
            "grid_area": null,
            "grid_auto_columns": null,
            "grid_auto_flow": null,
            "grid_auto_rows": null,
            "grid_column": null,
            "grid_gap": null,
            "grid_row": null,
            "grid_template_areas": null,
            "grid_template_columns": null,
            "grid_template_rows": null,
            "height": null,
            "justify_content": null,
            "justify_items": null,
            "left": null,
            "margin": null,
            "max_height": null,
            "max_width": null,
            "min_height": null,
            "min_width": null,
            "object_fit": null,
            "object_position": null,
            "order": null,
            "overflow": null,
            "overflow_x": null,
            "overflow_y": null,
            "padding": null,
            "right": null,
            "top": null,
            "visibility": null,
            "width": null
          }
        },
        "3f3060d1f5ca44cbba84d0aed1c16ae2": {
          "model_module": "@jupyter-widgets/base",
          "model_module_version": "1.2.0",
          "model_name": "LayoutModel",
          "state": {
            "_model_module": "@jupyter-widgets/base",
            "_model_module_version": "1.2.0",
            "_model_name": "LayoutModel",
            "_view_count": null,
            "_view_module": "@jupyter-widgets/base",
            "_view_module_version": "1.2.0",
            "_view_name": "LayoutView",
            "align_content": null,
            "align_items": null,
            "align_self": null,
            "border": null,
            "bottom": null,
            "display": null,
            "flex": null,
            "flex_flow": null,
            "grid_area": null,
            "grid_auto_columns": null,
            "grid_auto_flow": null,
            "grid_auto_rows": null,
            "grid_column": null,
            "grid_gap": null,
            "grid_row": null,
            "grid_template_areas": null,
            "grid_template_columns": null,
            "grid_template_rows": null,
            "height": null,
            "justify_content": null,
            "justify_items": null,
            "left": null,
            "margin": null,
            "max_height": null,
            "max_width": null,
            "min_height": null,
            "min_width": null,
            "object_fit": null,
            "object_position": null,
            "order": null,
            "overflow": null,
            "overflow_x": null,
            "overflow_y": null,
            "padding": null,
            "right": null,
            "top": null,
            "visibility": null,
            "width": null
          }
        },
        "50aabca008144a74bdef0525b40bb3bd": {
          "model_module": "@jupyter-widgets/controls",
          "model_module_version": "1.5.0",
          "model_name": "FloatProgressModel",
          "state": {
            "_dom_classes": [],
            "_model_module": "@jupyter-widgets/controls",
            "_model_module_version": "1.5.0",
            "_model_name": "FloatProgressModel",
            "_view_count": null,
            "_view_module": "@jupyter-widgets/controls",
            "_view_module_version": "1.5.0",
            "_view_name": "ProgressView",
            "bar_style": "success",
            "description": "",
            "description_tooltip": null,
            "layout": "IPY_MODEL_3461fa8f7965484ea56407e910990442",
            "max": 21,
            "min": 0,
            "orientation": "horizontal",
            "style": "IPY_MODEL_20e13062e901407e9c406e8facc86b0f",
            "value": 21
          }
        },
        "538f34ae509f49fe9a0bf42bc0a8725a": {
          "model_module": "@jupyter-widgets/controls",
          "model_module_version": "1.5.0",
          "model_name": "HBoxModel",
          "state": {
            "_dom_classes": [],
            "_model_module": "@jupyter-widgets/controls",
            "_model_module_version": "1.5.0",
            "_model_name": "HBoxModel",
            "_view_count": null,
            "_view_module": "@jupyter-widgets/controls",
            "_view_module_version": "1.5.0",
            "_view_name": "HBoxView",
            "box_style": "",
            "children": [
              "IPY_MODEL_993a0a2b79584dc18b24e9d4199d23f9",
              "IPY_MODEL_541818b6710a413fa42328c57a5e4965",
              "IPY_MODEL_3088bc91e28b4b87a89873deaff343b6"
            ],
            "layout": "IPY_MODEL_7253fb680ef34b28ac961c600f87c4dd"
          }
        },
        "541818b6710a413fa42328c57a5e4965": {
          "model_module": "@jupyter-widgets/controls",
          "model_module_version": "1.5.0",
          "model_name": "FloatProgressModel",
          "state": {
            "_dom_classes": [],
            "_model_module": "@jupyter-widgets/controls",
            "_model_module_version": "1.5.0",
            "_model_name": "FloatProgressModel",
            "_view_count": null,
            "_view_module": "@jupyter-widgets/controls",
            "_view_module_version": "1.5.0",
            "_view_name": "ProgressView",
            "bar_style": "success",
            "description": "",
            "description_tooltip": null,
            "layout": "IPY_MODEL_09073d0393484b9195b762fad76e6bcf",
            "max": 21,
            "min": 0,
            "orientation": "horizontal",
            "style": "IPY_MODEL_8e515592db0c46a1ac4fdca62c16a138",
            "value": 21
          }
        },
        "550142c76e344ebfadf066b1239ededf": {
          "model_module": "@jupyter-widgets/controls",
          "model_module_version": "1.5.0",
          "model_name": "DescriptionStyleModel",
          "state": {
            "_model_module": "@jupyter-widgets/controls",
            "_model_module_version": "1.5.0",
            "_model_name": "DescriptionStyleModel",
            "_view_count": null,
            "_view_module": "@jupyter-widgets/base",
            "_view_module_version": "1.2.0",
            "_view_name": "StyleView",
            "description_width": ""
          }
        },
        "66ece2ade83a44e48090ba123600f15b": {
          "model_module": "@jupyter-widgets/controls",
          "model_module_version": "1.5.0",
          "model_name": "HTMLModel",
          "state": {
            "_dom_classes": [],
            "_model_module": "@jupyter-widgets/controls",
            "_model_module_version": "1.5.0",
            "_model_name": "HTMLModel",
            "_view_count": null,
            "_view_module": "@jupyter-widgets/controls",
            "_view_module_version": "1.5.0",
            "_view_name": "HTMLView",
            "description": "",
            "description_tooltip": null,
            "layout": "IPY_MODEL_3c2a3cf0fb3644d2a7c9180deec3adfd",
            "placeholder": "​",
            "style": "IPY_MODEL_c93d4e85cc224677a2434f0d574ce7f8",
            "value": " 21/21 [00:00&lt;00:00, 155.72it/s]"
          }
        },
        "7253fb680ef34b28ac961c600f87c4dd": {
          "model_module": "@jupyter-widgets/base",
          "model_module_version": "1.2.0",
          "model_name": "LayoutModel",
          "state": {
            "_model_module": "@jupyter-widgets/base",
            "_model_module_version": "1.2.0",
            "_model_name": "LayoutModel",
            "_view_count": null,
            "_view_module": "@jupyter-widgets/base",
            "_view_module_version": "1.2.0",
            "_view_name": "LayoutView",
            "align_content": null,
            "align_items": null,
            "align_self": null,
            "border": null,
            "bottom": null,
            "display": null,
            "flex": null,
            "flex_flow": null,
            "grid_area": null,
            "grid_auto_columns": null,
            "grid_auto_flow": null,
            "grid_auto_rows": null,
            "grid_column": null,
            "grid_gap": null,
            "grid_row": null,
            "grid_template_areas": null,
            "grid_template_columns": null,
            "grid_template_rows": null,
            "height": null,
            "justify_content": null,
            "justify_items": null,
            "left": null,
            "margin": null,
            "max_height": null,
            "max_width": null,
            "min_height": null,
            "min_width": null,
            "object_fit": null,
            "object_position": null,
            "order": null,
            "overflow": null,
            "overflow_x": null,
            "overflow_y": null,
            "padding": null,
            "right": null,
            "top": null,
            "visibility": null,
            "width": null
          }
        },
        "854351e475ec49ad82fe04111e90fab4": {
          "model_module": "@jupyter-widgets/controls",
          "model_module_version": "1.5.0",
          "model_name": "HBoxModel",
          "state": {
            "_dom_classes": [],
            "_model_module": "@jupyter-widgets/controls",
            "_model_module_version": "1.5.0",
            "_model_name": "HBoxModel",
            "_view_count": null,
            "_view_module": "@jupyter-widgets/controls",
            "_view_module_version": "1.5.0",
            "_view_name": "HBoxView",
            "box_style": "",
            "children": [
              "IPY_MODEL_0f0c568ecea9404eb46edad505579189",
              "IPY_MODEL_50aabca008144a74bdef0525b40bb3bd",
              "IPY_MODEL_66ece2ade83a44e48090ba123600f15b"
            ],
            "layout": "IPY_MODEL_876c5b8cd7874c96ba49e80707971681"
          }
        },
        "876c5b8cd7874c96ba49e80707971681": {
          "model_module": "@jupyter-widgets/base",
          "model_module_version": "1.2.0",
          "model_name": "LayoutModel",
          "state": {
            "_model_module": "@jupyter-widgets/base",
            "_model_module_version": "1.2.0",
            "_model_name": "LayoutModel",
            "_view_count": null,
            "_view_module": "@jupyter-widgets/base",
            "_view_module_version": "1.2.0",
            "_view_name": "LayoutView",
            "align_content": null,
            "align_items": null,
            "align_self": null,
            "border": null,
            "bottom": null,
            "display": null,
            "flex": null,
            "flex_flow": null,
            "grid_area": null,
            "grid_auto_columns": null,
            "grid_auto_flow": null,
            "grid_auto_rows": null,
            "grid_column": null,
            "grid_gap": null,
            "grid_row": null,
            "grid_template_areas": null,
            "grid_template_columns": null,
            "grid_template_rows": null,
            "height": null,
            "justify_content": null,
            "justify_items": null,
            "left": null,
            "margin": null,
            "max_height": null,
            "max_width": null,
            "min_height": null,
            "min_width": null,
            "object_fit": null,
            "object_position": null,
            "order": null,
            "overflow": null,
            "overflow_x": null,
            "overflow_y": null,
            "padding": null,
            "right": null,
            "top": null,
            "visibility": null,
            "width": null
          }
        },
        "8e515592db0c46a1ac4fdca62c16a138": {
          "model_module": "@jupyter-widgets/controls",
          "model_module_version": "1.5.0",
          "model_name": "ProgressStyleModel",
          "state": {
            "_model_module": "@jupyter-widgets/controls",
            "_model_module_version": "1.5.0",
            "_model_name": "ProgressStyleModel",
            "_view_count": null,
            "_view_module": "@jupyter-widgets/base",
            "_view_module_version": "1.2.0",
            "_view_name": "StyleView",
            "bar_color": null,
            "description_width": ""
          }
        },
        "993a0a2b79584dc18b24e9d4199d23f9": {
          "model_module": "@jupyter-widgets/controls",
          "model_module_version": "1.5.0",
          "model_name": "HTMLModel",
          "state": {
            "_dom_classes": [],
            "_model_module": "@jupyter-widgets/controls",
            "_model_module_version": "1.5.0",
            "_model_name": "HTMLModel",
            "_view_count": null,
            "_view_module": "@jupyter-widgets/controls",
            "_view_module_version": "1.5.0",
            "_view_name": "HTMLView",
            "description": "",
            "description_tooltip": null,
            "layout": "IPY_MODEL_249190b2c5d54d45aad7f5f5a8ebfd1a",
            "placeholder": "​",
            "style": "IPY_MODEL_550142c76e344ebfadf066b1239ededf",
            "value": "100%"
          }
        },
        "b5cf52c73c344dd7be95ced1d32295de": {
          "model_module": "@jupyter-widgets/controls",
          "model_module_version": "1.5.0",
          "model_name": "DescriptionStyleModel",
          "state": {
            "_model_module": "@jupyter-widgets/controls",
            "_model_module_version": "1.5.0",
            "_model_name": "DescriptionStyleModel",
            "_view_count": null,
            "_view_module": "@jupyter-widgets/base",
            "_view_module_version": "1.2.0",
            "_view_name": "StyleView",
            "description_width": ""
          }
        },
        "c93d4e85cc224677a2434f0d574ce7f8": {
          "model_module": "@jupyter-widgets/controls",
          "model_module_version": "1.5.0",
          "model_name": "DescriptionStyleModel",
          "state": {
            "_model_module": "@jupyter-widgets/controls",
            "_model_module_version": "1.5.0",
            "_model_name": "DescriptionStyleModel",
            "_view_count": null,
            "_view_module": "@jupyter-widgets/base",
            "_view_module_version": "1.2.0",
            "_view_name": "StyleView",
            "description_width": ""
          }
        },
        "d971412850534e36a8772e5ed2f3a30a": {
          "model_module": "@jupyter-widgets/controls",
          "model_module_version": "1.5.0",
          "model_name": "DescriptionStyleModel",
          "state": {
            "_model_module": "@jupyter-widgets/controls",
            "_model_module_version": "1.5.0",
            "_model_name": "DescriptionStyleModel",
            "_view_count": null,
            "_view_module": "@jupyter-widgets/base",
            "_view_module_version": "1.2.0",
            "_view_name": "StyleView",
            "description_width": ""
          }
        },
        "f2e69e2c04724f90ae919009cac073b7": {
          "model_module": "@jupyter-widgets/base",
          "model_module_version": "1.2.0",
          "model_name": "LayoutModel",
          "state": {
            "_model_module": "@jupyter-widgets/base",
            "_model_module_version": "1.2.0",
            "_model_name": "LayoutModel",
            "_view_count": null,
            "_view_module": "@jupyter-widgets/base",
            "_view_module_version": "1.2.0",
            "_view_name": "LayoutView",
            "align_content": null,
            "align_items": null,
            "align_self": null,
            "border": null,
            "bottom": null,
            "display": null,
            "flex": null,
            "flex_flow": null,
            "grid_area": null,
            "grid_auto_columns": null,
            "grid_auto_flow": null,
            "grid_auto_rows": null,
            "grid_column": null,
            "grid_gap": null,
            "grid_row": null,
            "grid_template_areas": null,
            "grid_template_columns": null,
            "grid_template_rows": null,
            "height": null,
            "justify_content": null,
            "justify_items": null,
            "left": null,
            "margin": null,
            "max_height": null,
            "max_width": null,
            "min_height": null,
            "min_width": null,
            "object_fit": null,
            "object_position": null,
            "order": null,
            "overflow": null,
            "overflow_x": null,
            "overflow_y": null,
            "padding": null,
            "right": null,
            "top": null,
            "visibility": null,
            "width": null
          }
        }
      }
    }
  },
  "nbformat": 4,
  "nbformat_minor": 0
}
